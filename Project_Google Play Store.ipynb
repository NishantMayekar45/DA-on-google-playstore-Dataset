{
 "cells": [
  {
   "cell_type": "code",
   "execution_count": 85,
   "id": "070e0832",
   "metadata": {},
   "outputs": [],
   "source": [
    "import pandas as pd\n",
    "import numpy as np\n",
    "import seaborn as sns\n",
    "import matplotlib.pyplot as plt\n",
    "\n",
    "\n",
    "import warnings\n",
    "warnings.filterwarnings('ignore')"
   ]
  },
  {
   "cell_type": "code",
   "execution_count": 86,
   "id": "9d3187bf",
   "metadata": {},
   "outputs": [],
   "source": [
    "data = pd.read_csv('googleplaystore.csv')"
   ]
  },
  {
   "cell_type": "code",
   "execution_count": 87,
   "id": "e60949f3",
   "metadata": {},
   "outputs": [
    {
     "data": {
      "text/html": [
       "<div>\n",
       "<style scoped>\n",
       "    .dataframe tbody tr th:only-of-type {\n",
       "        vertical-align: middle;\n",
       "    }\n",
       "\n",
       "    .dataframe tbody tr th {\n",
       "        vertical-align: top;\n",
       "    }\n",
       "\n",
       "    .dataframe thead th {\n",
       "        text-align: right;\n",
       "    }\n",
       "</style>\n",
       "<table border=\"1\" class=\"dataframe\">\n",
       "  <thead>\n",
       "    <tr style=\"text-align: right;\">\n",
       "      <th></th>\n",
       "      <th>App</th>\n",
       "      <th>Category</th>\n",
       "      <th>Rating</th>\n",
       "      <th>Reviews</th>\n",
       "      <th>Size</th>\n",
       "      <th>Installs</th>\n",
       "      <th>Type</th>\n",
       "      <th>Price</th>\n",
       "      <th>Content Rating</th>\n",
       "      <th>Genres</th>\n",
       "      <th>Last Updated</th>\n",
       "      <th>Current Ver</th>\n",
       "      <th>Android Ver</th>\n",
       "    </tr>\n",
       "  </thead>\n",
       "  <tbody>\n",
       "    <tr>\n",
       "      <th>0</th>\n",
       "      <td>Photo Editor &amp; Candy Camera &amp; Grid &amp; ScrapBook</td>\n",
       "      <td>ART_AND_DESIGN</td>\n",
       "      <td>4.1</td>\n",
       "      <td>159</td>\n",
       "      <td>19M</td>\n",
       "      <td>10,000+</td>\n",
       "      <td>Free</td>\n",
       "      <td>0</td>\n",
       "      <td>Everyone</td>\n",
       "      <td>Art &amp; Design</td>\n",
       "      <td>January 7, 2018</td>\n",
       "      <td>1.0.0</td>\n",
       "      <td>4.0.3 and up</td>\n",
       "    </tr>\n",
       "    <tr>\n",
       "      <th>1</th>\n",
       "      <td>Coloring book moana</td>\n",
       "      <td>ART_AND_DESIGN</td>\n",
       "      <td>3.9</td>\n",
       "      <td>967</td>\n",
       "      <td>14M</td>\n",
       "      <td>500,000+</td>\n",
       "      <td>Free</td>\n",
       "      <td>0</td>\n",
       "      <td>Everyone</td>\n",
       "      <td>Art &amp; Design;Pretend Play</td>\n",
       "      <td>January 15, 2018</td>\n",
       "      <td>2.0.0</td>\n",
       "      <td>4.0.3 and up</td>\n",
       "    </tr>\n",
       "    <tr>\n",
       "      <th>2</th>\n",
       "      <td>U Launcher Lite – FREE Live Cool Themes, Hide ...</td>\n",
       "      <td>ART_AND_DESIGN</td>\n",
       "      <td>4.7</td>\n",
       "      <td>87510</td>\n",
       "      <td>8.7M</td>\n",
       "      <td>5,000,000+</td>\n",
       "      <td>Free</td>\n",
       "      <td>0</td>\n",
       "      <td>Everyone</td>\n",
       "      <td>Art &amp; Design</td>\n",
       "      <td>August 1, 2018</td>\n",
       "      <td>1.2.4</td>\n",
       "      <td>4.0.3 and up</td>\n",
       "    </tr>\n",
       "    <tr>\n",
       "      <th>3</th>\n",
       "      <td>Sketch - Draw &amp; Paint</td>\n",
       "      <td>ART_AND_DESIGN</td>\n",
       "      <td>4.5</td>\n",
       "      <td>215644</td>\n",
       "      <td>25M</td>\n",
       "      <td>50,000,000+</td>\n",
       "      <td>Free</td>\n",
       "      <td>0</td>\n",
       "      <td>Teen</td>\n",
       "      <td>Art &amp; Design</td>\n",
       "      <td>June 8, 2018</td>\n",
       "      <td>Varies with device</td>\n",
       "      <td>4.2 and up</td>\n",
       "    </tr>\n",
       "    <tr>\n",
       "      <th>4</th>\n",
       "      <td>Pixel Draw - Number Art Coloring Book</td>\n",
       "      <td>ART_AND_DESIGN</td>\n",
       "      <td>4.3</td>\n",
       "      <td>967</td>\n",
       "      <td>2.8M</td>\n",
       "      <td>100,000+</td>\n",
       "      <td>Free</td>\n",
       "      <td>0</td>\n",
       "      <td>Everyone</td>\n",
       "      <td>Art &amp; Design;Creativity</td>\n",
       "      <td>June 20, 2018</td>\n",
       "      <td>1.1</td>\n",
       "      <td>4.4 and up</td>\n",
       "    </tr>\n",
       "  </tbody>\n",
       "</table>\n",
       "</div>"
      ],
      "text/plain": [
       "                                                 App        Category  Rating  \\\n",
       "0     Photo Editor & Candy Camera & Grid & ScrapBook  ART_AND_DESIGN     4.1   \n",
       "1                                Coloring book moana  ART_AND_DESIGN     3.9   \n",
       "2  U Launcher Lite – FREE Live Cool Themes, Hide ...  ART_AND_DESIGN     4.7   \n",
       "3                              Sketch - Draw & Paint  ART_AND_DESIGN     4.5   \n",
       "4              Pixel Draw - Number Art Coloring Book  ART_AND_DESIGN     4.3   \n",
       "\n",
       "  Reviews  Size     Installs  Type Price Content Rating  \\\n",
       "0     159   19M      10,000+  Free     0       Everyone   \n",
       "1     967   14M     500,000+  Free     0       Everyone   \n",
       "2   87510  8.7M   5,000,000+  Free     0       Everyone   \n",
       "3  215644   25M  50,000,000+  Free     0           Teen   \n",
       "4     967  2.8M     100,000+  Free     0       Everyone   \n",
       "\n",
       "                      Genres      Last Updated         Current Ver  \\\n",
       "0               Art & Design   January 7, 2018               1.0.0   \n",
       "1  Art & Design;Pretend Play  January 15, 2018               2.0.0   \n",
       "2               Art & Design    August 1, 2018               1.2.4   \n",
       "3               Art & Design      June 8, 2018  Varies with device   \n",
       "4    Art & Design;Creativity     June 20, 2018                 1.1   \n",
       "\n",
       "    Android Ver  \n",
       "0  4.0.3 and up  \n",
       "1  4.0.3 and up  \n",
       "2  4.0.3 and up  \n",
       "3    4.2 and up  \n",
       "4    4.4 and up  "
      ]
     },
     "execution_count": 87,
     "metadata": {},
     "output_type": "execute_result"
    }
   ],
   "source": [
    "data.head()"
   ]
  },
  {
   "cell_type": "code",
   "execution_count": 88,
   "id": "4c1f4998",
   "metadata": {},
   "outputs": [
    {
     "name": "stdout",
     "output_type": "stream",
     "text": [
      "<class 'pandas.core.frame.DataFrame'>\n",
      "RangeIndex: 10841 entries, 0 to 10840\n",
      "Data columns (total 13 columns):\n",
      " #   Column          Non-Null Count  Dtype  \n",
      "---  ------          --------------  -----  \n",
      " 0   App             10841 non-null  object \n",
      " 1   Category        10841 non-null  object \n",
      " 2   Rating          9367 non-null   float64\n",
      " 3   Reviews         10841 non-null  object \n",
      " 4   Size            10841 non-null  object \n",
      " 5   Installs        10841 non-null  object \n",
      " 6   Type            10840 non-null  object \n",
      " 7   Price           10841 non-null  object \n",
      " 8   Content Rating  10840 non-null  object \n",
      " 9   Genres          10841 non-null  object \n",
      " 10  Last Updated    10841 non-null  object \n",
      " 11  Current Ver     10833 non-null  object \n",
      " 12  Android Ver     10838 non-null  object \n",
      "dtypes: float64(1), object(12)\n",
      "memory usage: 1.1+ MB\n"
     ]
    }
   ],
   "source": [
    "data.info()"
   ]
  },
  {
   "cell_type": "code",
   "execution_count": 89,
   "id": "325757d2",
   "metadata": {},
   "outputs": [
    {
     "data": {
      "text/plain": [
       "Index(['App', 'Category', 'Rating', 'Reviews', 'Size', 'Installs', 'Type',\n",
       "       'Price', 'Content Rating', 'Genres', 'Last Updated', 'Current Ver',\n",
       "       'Android Ver'],\n",
       "      dtype='object')"
      ]
     },
     "execution_count": 89,
     "metadata": {},
     "output_type": "execute_result"
    }
   ],
   "source": [
    "data.columns"
   ]
  },
  {
   "cell_type": "code",
   "execution_count": 90,
   "id": "088ea516",
   "metadata": {},
   "outputs": [
    {
     "data": {
      "text/plain": [
       "App                  0\n",
       "Category             0\n",
       "Rating            1474\n",
       "Reviews              0\n",
       "Size                 0\n",
       "Installs             0\n",
       "Type                 1\n",
       "Price                0\n",
       "Content Rating       1\n",
       "Genres               0\n",
       "Last Updated         0\n",
       "Current Ver          8\n",
       "Android Ver          3\n",
       "dtype: int64"
      ]
     },
     "execution_count": 90,
     "metadata": {},
     "output_type": "execute_result"
    }
   ],
   "source": [
    "data.isnull().sum()"
   ]
  },
  {
   "cell_type": "code",
   "execution_count": 91,
   "id": "b679aecf",
   "metadata": {},
   "outputs": [],
   "source": [
    "def printinfo():\n",
    "    temp = pd.DataFrame(index = data.columns)\n",
    "    temp ['data_type'] = data.dtypes\n",
    "    temp ['null_count'] = data.isnull().sum()\n",
    "    temp ['unique_count'] = data.nunique()\n",
    "    return temp"
   ]
  },
  {
   "cell_type": "code",
   "execution_count": 92,
   "id": "1913fd8f",
   "metadata": {},
   "outputs": [
    {
     "data": {
      "text/html": [
       "<div>\n",
       "<style scoped>\n",
       "    .dataframe tbody tr th:only-of-type {\n",
       "        vertical-align: middle;\n",
       "    }\n",
       "\n",
       "    .dataframe tbody tr th {\n",
       "        vertical-align: top;\n",
       "    }\n",
       "\n",
       "    .dataframe thead th {\n",
       "        text-align: right;\n",
       "    }\n",
       "</style>\n",
       "<table border=\"1\" class=\"dataframe\">\n",
       "  <thead>\n",
       "    <tr style=\"text-align: right;\">\n",
       "      <th></th>\n",
       "      <th>data_type</th>\n",
       "      <th>null_count</th>\n",
       "      <th>unique_count</th>\n",
       "    </tr>\n",
       "  </thead>\n",
       "  <tbody>\n",
       "    <tr>\n",
       "      <th>App</th>\n",
       "      <td>object</td>\n",
       "      <td>0</td>\n",
       "      <td>9660</td>\n",
       "    </tr>\n",
       "    <tr>\n",
       "      <th>Category</th>\n",
       "      <td>object</td>\n",
       "      <td>0</td>\n",
       "      <td>34</td>\n",
       "    </tr>\n",
       "    <tr>\n",
       "      <th>Rating</th>\n",
       "      <td>float64</td>\n",
       "      <td>1474</td>\n",
       "      <td>40</td>\n",
       "    </tr>\n",
       "    <tr>\n",
       "      <th>Reviews</th>\n",
       "      <td>object</td>\n",
       "      <td>0</td>\n",
       "      <td>6002</td>\n",
       "    </tr>\n",
       "    <tr>\n",
       "      <th>Size</th>\n",
       "      <td>object</td>\n",
       "      <td>0</td>\n",
       "      <td>462</td>\n",
       "    </tr>\n",
       "    <tr>\n",
       "      <th>Installs</th>\n",
       "      <td>object</td>\n",
       "      <td>0</td>\n",
       "      <td>22</td>\n",
       "    </tr>\n",
       "    <tr>\n",
       "      <th>Type</th>\n",
       "      <td>object</td>\n",
       "      <td>1</td>\n",
       "      <td>3</td>\n",
       "    </tr>\n",
       "    <tr>\n",
       "      <th>Price</th>\n",
       "      <td>object</td>\n",
       "      <td>0</td>\n",
       "      <td>93</td>\n",
       "    </tr>\n",
       "    <tr>\n",
       "      <th>Content Rating</th>\n",
       "      <td>object</td>\n",
       "      <td>1</td>\n",
       "      <td>6</td>\n",
       "    </tr>\n",
       "    <tr>\n",
       "      <th>Genres</th>\n",
       "      <td>object</td>\n",
       "      <td>0</td>\n",
       "      <td>120</td>\n",
       "    </tr>\n",
       "    <tr>\n",
       "      <th>Last Updated</th>\n",
       "      <td>object</td>\n",
       "      <td>0</td>\n",
       "      <td>1378</td>\n",
       "    </tr>\n",
       "    <tr>\n",
       "      <th>Current Ver</th>\n",
       "      <td>object</td>\n",
       "      <td>8</td>\n",
       "      <td>2832</td>\n",
       "    </tr>\n",
       "    <tr>\n",
       "      <th>Android Ver</th>\n",
       "      <td>object</td>\n",
       "      <td>3</td>\n",
       "      <td>33</td>\n",
       "    </tr>\n",
       "  </tbody>\n",
       "</table>\n",
       "</div>"
      ],
      "text/plain": [
       "               data_type  null_count  unique_count\n",
       "App               object           0          9660\n",
       "Category          object           0            34\n",
       "Rating           float64        1474            40\n",
       "Reviews           object           0          6002\n",
       "Size              object           0           462\n",
       "Installs          object           0            22\n",
       "Type              object           1             3\n",
       "Price             object           0            93\n",
       "Content Rating    object           1             6\n",
       "Genres            object           0           120\n",
       "Last Updated      object           0          1378\n",
       "Current Ver       object           8          2832\n",
       "Android Ver       object           3            33"
      ]
     },
     "execution_count": 92,
     "metadata": {},
     "output_type": "execute_result"
    }
   ],
   "source": [
    "printinfo()"
   ]
  },
  {
   "cell_type": "markdown",
   "id": "33453767",
   "metadata": {},
   "source": [
    "# Column Rating Having Null Values "
   ]
  },
  {
   "cell_type": "code",
   "execution_count": 93,
   "id": "15f1fee4",
   "metadata": {},
   "outputs": [
    {
     "data": {
      "text/html": [
       "<div>\n",
       "<style scoped>\n",
       "    .dataframe tbody tr th:only-of-type {\n",
       "        vertical-align: middle;\n",
       "    }\n",
       "\n",
       "    .dataframe tbody tr th {\n",
       "        vertical-align: top;\n",
       "    }\n",
       "\n",
       "    .dataframe thead th {\n",
       "        text-align: right;\n",
       "    }\n",
       "</style>\n",
       "<table border=\"1\" class=\"dataframe\">\n",
       "  <thead>\n",
       "    <tr style=\"text-align: right;\">\n",
       "      <th></th>\n",
       "      <th>App</th>\n",
       "      <th>Category</th>\n",
       "      <th>Rating</th>\n",
       "      <th>Reviews</th>\n",
       "      <th>Size</th>\n",
       "      <th>Installs</th>\n",
       "      <th>Type</th>\n",
       "      <th>Price</th>\n",
       "      <th>Content Rating</th>\n",
       "      <th>Genres</th>\n",
       "      <th>Last Updated</th>\n",
       "      <th>Current Ver</th>\n",
       "      <th>Android Ver</th>\n",
       "    </tr>\n",
       "  </thead>\n",
       "  <tbody>\n",
       "    <tr>\n",
       "      <th>23</th>\n",
       "      <td>Mcqueen Coloring pages</td>\n",
       "      <td>ART_AND_DESIGN</td>\n",
       "      <td>NaN</td>\n",
       "      <td>61</td>\n",
       "      <td>7.0M</td>\n",
       "      <td>100,000+</td>\n",
       "      <td>Free</td>\n",
       "      <td>0</td>\n",
       "      <td>Everyone</td>\n",
       "      <td>Art &amp; Design;Action &amp; Adventure</td>\n",
       "      <td>March 7, 2018</td>\n",
       "      <td>1.0.0</td>\n",
       "      <td>4.1 and up</td>\n",
       "    </tr>\n",
       "    <tr>\n",
       "      <th>113</th>\n",
       "      <td>Wrinkles and rejuvenation</td>\n",
       "      <td>BEAUTY</td>\n",
       "      <td>NaN</td>\n",
       "      <td>182</td>\n",
       "      <td>5.7M</td>\n",
       "      <td>100,000+</td>\n",
       "      <td>Free</td>\n",
       "      <td>0</td>\n",
       "      <td>Everyone 10+</td>\n",
       "      <td>Beauty</td>\n",
       "      <td>September 20, 2017</td>\n",
       "      <td>8.0</td>\n",
       "      <td>3.0 and up</td>\n",
       "    </tr>\n",
       "    <tr>\n",
       "      <th>123</th>\n",
       "      <td>Manicure - nail design</td>\n",
       "      <td>BEAUTY</td>\n",
       "      <td>NaN</td>\n",
       "      <td>119</td>\n",
       "      <td>3.7M</td>\n",
       "      <td>50,000+</td>\n",
       "      <td>Free</td>\n",
       "      <td>0</td>\n",
       "      <td>Everyone</td>\n",
       "      <td>Beauty</td>\n",
       "      <td>July 23, 2018</td>\n",
       "      <td>1.3</td>\n",
       "      <td>4.1 and up</td>\n",
       "    </tr>\n",
       "    <tr>\n",
       "      <th>126</th>\n",
       "      <td>Skin Care and Natural Beauty</td>\n",
       "      <td>BEAUTY</td>\n",
       "      <td>NaN</td>\n",
       "      <td>654</td>\n",
       "      <td>7.4M</td>\n",
       "      <td>100,000+</td>\n",
       "      <td>Free</td>\n",
       "      <td>0</td>\n",
       "      <td>Teen</td>\n",
       "      <td>Beauty</td>\n",
       "      <td>July 17, 2018</td>\n",
       "      <td>1.15</td>\n",
       "      <td>4.1 and up</td>\n",
       "    </tr>\n",
       "    <tr>\n",
       "      <th>129</th>\n",
       "      <td>Secrets of beauty, youth and health</td>\n",
       "      <td>BEAUTY</td>\n",
       "      <td>NaN</td>\n",
       "      <td>77</td>\n",
       "      <td>2.9M</td>\n",
       "      <td>10,000+</td>\n",
       "      <td>Free</td>\n",
       "      <td>0</td>\n",
       "      <td>Mature 17+</td>\n",
       "      <td>Beauty</td>\n",
       "      <td>August 8, 2017</td>\n",
       "      <td>2.0</td>\n",
       "      <td>2.3 and up</td>\n",
       "    </tr>\n",
       "    <tr>\n",
       "      <th>...</th>\n",
       "      <td>...</td>\n",
       "      <td>...</td>\n",
       "      <td>...</td>\n",
       "      <td>...</td>\n",
       "      <td>...</td>\n",
       "      <td>...</td>\n",
       "      <td>...</td>\n",
       "      <td>...</td>\n",
       "      <td>...</td>\n",
       "      <td>...</td>\n",
       "      <td>...</td>\n",
       "      <td>...</td>\n",
       "      <td>...</td>\n",
       "    </tr>\n",
       "    <tr>\n",
       "      <th>10824</th>\n",
       "      <td>Cardio-FR</td>\n",
       "      <td>MEDICAL</td>\n",
       "      <td>NaN</td>\n",
       "      <td>67</td>\n",
       "      <td>82M</td>\n",
       "      <td>10,000+</td>\n",
       "      <td>Free</td>\n",
       "      <td>0</td>\n",
       "      <td>Everyone</td>\n",
       "      <td>Medical</td>\n",
       "      <td>July 31, 2018</td>\n",
       "      <td>2.2.2</td>\n",
       "      <td>4.4 and up</td>\n",
       "    </tr>\n",
       "    <tr>\n",
       "      <th>10825</th>\n",
       "      <td>Naruto &amp; Boruto FR</td>\n",
       "      <td>SOCIAL</td>\n",
       "      <td>NaN</td>\n",
       "      <td>7</td>\n",
       "      <td>7.7M</td>\n",
       "      <td>100+</td>\n",
       "      <td>Free</td>\n",
       "      <td>0</td>\n",
       "      <td>Teen</td>\n",
       "      <td>Social</td>\n",
       "      <td>February 2, 2018</td>\n",
       "      <td>1.0</td>\n",
       "      <td>4.0 and up</td>\n",
       "    </tr>\n",
       "    <tr>\n",
       "      <th>10831</th>\n",
       "      <td>payermonstationnement.fr</td>\n",
       "      <td>MAPS_AND_NAVIGATION</td>\n",
       "      <td>NaN</td>\n",
       "      <td>38</td>\n",
       "      <td>9.8M</td>\n",
       "      <td>5,000+</td>\n",
       "      <td>Free</td>\n",
       "      <td>0</td>\n",
       "      <td>Everyone</td>\n",
       "      <td>Maps &amp; Navigation</td>\n",
       "      <td>June 13, 2018</td>\n",
       "      <td>2.0.148.0</td>\n",
       "      <td>4.0 and up</td>\n",
       "    </tr>\n",
       "    <tr>\n",
       "      <th>10835</th>\n",
       "      <td>FR Forms</td>\n",
       "      <td>BUSINESS</td>\n",
       "      <td>NaN</td>\n",
       "      <td>0</td>\n",
       "      <td>9.6M</td>\n",
       "      <td>10+</td>\n",
       "      <td>Free</td>\n",
       "      <td>0</td>\n",
       "      <td>Everyone</td>\n",
       "      <td>Business</td>\n",
       "      <td>September 29, 2016</td>\n",
       "      <td>1.1.5</td>\n",
       "      <td>4.0 and up</td>\n",
       "    </tr>\n",
       "    <tr>\n",
       "      <th>10838</th>\n",
       "      <td>Parkinson Exercices FR</td>\n",
       "      <td>MEDICAL</td>\n",
       "      <td>NaN</td>\n",
       "      <td>3</td>\n",
       "      <td>9.5M</td>\n",
       "      <td>1,000+</td>\n",
       "      <td>Free</td>\n",
       "      <td>0</td>\n",
       "      <td>Everyone</td>\n",
       "      <td>Medical</td>\n",
       "      <td>January 20, 2017</td>\n",
       "      <td>1.0</td>\n",
       "      <td>2.2 and up</td>\n",
       "    </tr>\n",
       "  </tbody>\n",
       "</table>\n",
       "<p>1474 rows × 13 columns</p>\n",
       "</div>"
      ],
      "text/plain": [
       "                                       App             Category  Rating  \\\n",
       "23                  Mcqueen Coloring pages       ART_AND_DESIGN     NaN   \n",
       "113              Wrinkles and rejuvenation               BEAUTY     NaN   \n",
       "123                 Manicure - nail design               BEAUTY     NaN   \n",
       "126           Skin Care and Natural Beauty               BEAUTY     NaN   \n",
       "129    Secrets of beauty, youth and health               BEAUTY     NaN   \n",
       "...                                    ...                  ...     ...   \n",
       "10824                            Cardio-FR              MEDICAL     NaN   \n",
       "10825                   Naruto & Boruto FR               SOCIAL     NaN   \n",
       "10831             payermonstationnement.fr  MAPS_AND_NAVIGATION     NaN   \n",
       "10835                             FR Forms             BUSINESS     NaN   \n",
       "10838               Parkinson Exercices FR              MEDICAL     NaN   \n",
       "\n",
       "      Reviews  Size  Installs  Type Price Content Rating  \\\n",
       "23         61  7.0M  100,000+  Free     0       Everyone   \n",
       "113       182  5.7M  100,000+  Free     0   Everyone 10+   \n",
       "123       119  3.7M   50,000+  Free     0       Everyone   \n",
       "126       654  7.4M  100,000+  Free     0           Teen   \n",
       "129        77  2.9M   10,000+  Free     0     Mature 17+   \n",
       "...       ...   ...       ...   ...   ...            ...   \n",
       "10824      67   82M   10,000+  Free     0       Everyone   \n",
       "10825       7  7.7M      100+  Free     0           Teen   \n",
       "10831      38  9.8M    5,000+  Free     0       Everyone   \n",
       "10835       0  9.6M       10+  Free     0       Everyone   \n",
       "10838       3  9.5M    1,000+  Free     0       Everyone   \n",
       "\n",
       "                                Genres        Last Updated Current Ver  \\\n",
       "23     Art & Design;Action & Adventure       March 7, 2018       1.0.0   \n",
       "113                             Beauty  September 20, 2017         8.0   \n",
       "123                             Beauty       July 23, 2018         1.3   \n",
       "126                             Beauty       July 17, 2018        1.15   \n",
       "129                             Beauty      August 8, 2017         2.0   \n",
       "...                                ...                 ...         ...   \n",
       "10824                          Medical       July 31, 2018       2.2.2   \n",
       "10825                           Social    February 2, 2018         1.0   \n",
       "10831                Maps & Navigation       June 13, 2018   2.0.148.0   \n",
       "10835                         Business  September 29, 2016       1.1.5   \n",
       "10838                          Medical    January 20, 2017         1.0   \n",
       "\n",
       "      Android Ver  \n",
       "23     4.1 and up  \n",
       "113    3.0 and up  \n",
       "123    4.1 and up  \n",
       "126    4.1 and up  \n",
       "129    2.3 and up  \n",
       "...           ...  \n",
       "10824  4.4 and up  \n",
       "10825  4.0 and up  \n",
       "10831  4.0 and up  \n",
       "10835  4.0 and up  \n",
       "10838  2.2 and up  \n",
       "\n",
       "[1474 rows x 13 columns]"
      ]
     },
     "execution_count": 93,
     "metadata": {},
     "output_type": "execute_result"
    }
   ],
   "source": [
    "data[data.Rating.isnull()]"
   ]
  },
  {
   "cell_type": "markdown",
   "id": "e9db09da",
   "metadata": {},
   "source": [
    "# Column Type Having Null Values"
   ]
  },
  {
   "cell_type": "code",
   "execution_count": 94,
   "id": "fbe033e0",
   "metadata": {},
   "outputs": [
    {
     "data": {
      "text/html": [
       "<div>\n",
       "<style scoped>\n",
       "    .dataframe tbody tr th:only-of-type {\n",
       "        vertical-align: middle;\n",
       "    }\n",
       "\n",
       "    .dataframe tbody tr th {\n",
       "        vertical-align: top;\n",
       "    }\n",
       "\n",
       "    .dataframe thead th {\n",
       "        text-align: right;\n",
       "    }\n",
       "</style>\n",
       "<table border=\"1\" class=\"dataframe\">\n",
       "  <thead>\n",
       "    <tr style=\"text-align: right;\">\n",
       "      <th></th>\n",
       "      <th>App</th>\n",
       "      <th>Category</th>\n",
       "      <th>Rating</th>\n",
       "      <th>Reviews</th>\n",
       "      <th>Size</th>\n",
       "      <th>Installs</th>\n",
       "      <th>Type</th>\n",
       "      <th>Price</th>\n",
       "      <th>Content Rating</th>\n",
       "      <th>Genres</th>\n",
       "      <th>Last Updated</th>\n",
       "      <th>Current Ver</th>\n",
       "      <th>Android Ver</th>\n",
       "    </tr>\n",
       "  </thead>\n",
       "  <tbody>\n",
       "    <tr>\n",
       "      <th>9148</th>\n",
       "      <td>Command &amp; Conquer: Rivals</td>\n",
       "      <td>FAMILY</td>\n",
       "      <td>NaN</td>\n",
       "      <td>0</td>\n",
       "      <td>Varies with device</td>\n",
       "      <td>0</td>\n",
       "      <td>NaN</td>\n",
       "      <td>0</td>\n",
       "      <td>Everyone 10+</td>\n",
       "      <td>Strategy</td>\n",
       "      <td>June 28, 2018</td>\n",
       "      <td>Varies with device</td>\n",
       "      <td>Varies with device</td>\n",
       "    </tr>\n",
       "  </tbody>\n",
       "</table>\n",
       "</div>"
      ],
      "text/plain": [
       "                            App Category  Rating Reviews                Size  \\\n",
       "9148  Command & Conquer: Rivals   FAMILY     NaN       0  Varies with device   \n",
       "\n",
       "     Installs Type Price Content Rating    Genres   Last Updated  \\\n",
       "9148        0  NaN     0   Everyone 10+  Strategy  June 28, 2018   \n",
       "\n",
       "             Current Ver         Android Ver  \n",
       "9148  Varies with device  Varies with device  "
      ]
     },
     "execution_count": 94,
     "metadata": {},
     "output_type": "execute_result"
    }
   ],
   "source": [
    "data[data.Type.isnull()]"
   ]
  },
  {
   "cell_type": "raw",
   "id": "ed795b86",
   "metadata": {},
   "source": [
    "# So there is one missing values in column Type .by Cross-checking  in the dataset I have found the missing value is found to be FREE"
   ]
  },
  {
   "cell_type": "code",
   "execution_count": 95,
   "id": "5c3f138f",
   "metadata": {},
   "outputs": [],
   "source": [
    "data['Type'].fillna(\"Free\",inplace = True)"
   ]
  },
  {
   "cell_type": "code",
   "execution_count": 96,
   "id": "02247574",
   "metadata": {},
   "outputs": [
    {
     "data": {
      "text/plain": [
       "App                  0\n",
       "Category             0\n",
       "Rating            1474\n",
       "Reviews              0\n",
       "Size                 0\n",
       "Installs             0\n",
       "Type                 0\n",
       "Price                0\n",
       "Content Rating       1\n",
       "Genres               0\n",
       "Last Updated         0\n",
       "Current Ver          8\n",
       "Android Ver          3\n",
       "dtype: int64"
      ]
     },
     "execution_count": 96,
     "metadata": {},
     "output_type": "execute_result"
    }
   ],
   "source": [
    "data.isnull().sum()"
   ]
  },
  {
   "cell_type": "markdown",
   "id": "f1a5a3e2",
   "metadata": {},
   "source": [
    "# Column  Content Rating Having null values "
   ]
  },
  {
   "cell_type": "code",
   "execution_count": 97,
   "id": "ade31109",
   "metadata": {},
   "outputs": [
    {
     "data": {
      "text/html": [
       "<div>\n",
       "<style scoped>\n",
       "    .dataframe tbody tr th:only-of-type {\n",
       "        vertical-align: middle;\n",
       "    }\n",
       "\n",
       "    .dataframe tbody tr th {\n",
       "        vertical-align: top;\n",
       "    }\n",
       "\n",
       "    .dataframe thead th {\n",
       "        text-align: right;\n",
       "    }\n",
       "</style>\n",
       "<table border=\"1\" class=\"dataframe\">\n",
       "  <thead>\n",
       "    <tr style=\"text-align: right;\">\n",
       "      <th></th>\n",
       "      <th>App</th>\n",
       "      <th>Category</th>\n",
       "      <th>Rating</th>\n",
       "      <th>Reviews</th>\n",
       "      <th>Size</th>\n",
       "      <th>Installs</th>\n",
       "      <th>Type</th>\n",
       "      <th>Price</th>\n",
       "      <th>Content Rating</th>\n",
       "      <th>Genres</th>\n",
       "      <th>Last Updated</th>\n",
       "      <th>Current Ver</th>\n",
       "      <th>Android Ver</th>\n",
       "    </tr>\n",
       "  </thead>\n",
       "  <tbody>\n",
       "    <tr>\n",
       "      <th>10472</th>\n",
       "      <td>Life Made WI-Fi Touchscreen Photo Frame</td>\n",
       "      <td>1.9</td>\n",
       "      <td>19.0</td>\n",
       "      <td>3.0M</td>\n",
       "      <td>1,000+</td>\n",
       "      <td>Free</td>\n",
       "      <td>0</td>\n",
       "      <td>Everyone</td>\n",
       "      <td>NaN</td>\n",
       "      <td>February 11, 2018</td>\n",
       "      <td>1.0.19</td>\n",
       "      <td>4.0 and up</td>\n",
       "      <td>NaN</td>\n",
       "    </tr>\n",
       "  </tbody>\n",
       "</table>\n",
       "</div>"
      ],
      "text/plain": [
       "                                           App Category  Rating Reviews  \\\n",
       "10472  Life Made WI-Fi Touchscreen Photo Frame      1.9    19.0    3.0M   \n",
       "\n",
       "         Size Installs Type     Price Content Rating             Genres  \\\n",
       "10472  1,000+     Free    0  Everyone            NaN  February 11, 2018   \n",
       "\n",
       "      Last Updated Current Ver Android Ver  \n",
       "10472       1.0.19  4.0 and up         NaN  "
      ]
     },
     "execution_count": 97,
     "metadata": {},
     "output_type": "execute_result"
    }
   ],
   "source": [
    "data[data['Content Rating'].isnull()]"
   ]
  },
  {
   "cell_type": "code",
   "execution_count": 98,
   "id": "c57c6725",
   "metadata": {},
   "outputs": [
    {
     "data": {
      "text/html": [
       "<div>\n",
       "<style scoped>\n",
       "    .dataframe tbody tr th:only-of-type {\n",
       "        vertical-align: middle;\n",
       "    }\n",
       "\n",
       "    .dataframe tbody tr th {\n",
       "        vertical-align: top;\n",
       "    }\n",
       "\n",
       "    .dataframe thead th {\n",
       "        text-align: right;\n",
       "    }\n",
       "</style>\n",
       "<table border=\"1\" class=\"dataframe\">\n",
       "  <thead>\n",
       "    <tr style=\"text-align: right;\">\n",
       "      <th></th>\n",
       "      <th>App</th>\n",
       "      <th>Category</th>\n",
       "      <th>Rating</th>\n",
       "      <th>Reviews</th>\n",
       "      <th>Size</th>\n",
       "      <th>Installs</th>\n",
       "      <th>Type</th>\n",
       "      <th>Price</th>\n",
       "      <th>Content Rating</th>\n",
       "      <th>Genres</th>\n",
       "      <th>Last Updated</th>\n",
       "      <th>Current Ver</th>\n",
       "      <th>Android Ver</th>\n",
       "    </tr>\n",
       "  </thead>\n",
       "  <tbody>\n",
       "    <tr>\n",
       "      <th>10468</th>\n",
       "      <td>Tassa.fi Finland</td>\n",
       "      <td>LIFESTYLE</td>\n",
       "      <td>3.6</td>\n",
       "      <td>346</td>\n",
       "      <td>7.5M</td>\n",
       "      <td>50,000+</td>\n",
       "      <td>Free</td>\n",
       "      <td>0</td>\n",
       "      <td>Everyone</td>\n",
       "      <td>Lifestyle</td>\n",
       "      <td>May 22, 2018</td>\n",
       "      <td>5.5</td>\n",
       "      <td>4.0 and up</td>\n",
       "    </tr>\n",
       "    <tr>\n",
       "      <th>10469</th>\n",
       "      <td>TownWiFi | Wi-Fi Everywhere</td>\n",
       "      <td>COMMUNICATION</td>\n",
       "      <td>3.9</td>\n",
       "      <td>2372</td>\n",
       "      <td>58M</td>\n",
       "      <td>500,000+</td>\n",
       "      <td>Free</td>\n",
       "      <td>0</td>\n",
       "      <td>Everyone</td>\n",
       "      <td>Communication</td>\n",
       "      <td>August 2, 2018</td>\n",
       "      <td>4.2.1</td>\n",
       "      <td>4.2 and up</td>\n",
       "    </tr>\n",
       "    <tr>\n",
       "      <th>10470</th>\n",
       "      <td>Jazz Wi-Fi</td>\n",
       "      <td>COMMUNICATION</td>\n",
       "      <td>3.4</td>\n",
       "      <td>49</td>\n",
       "      <td>4.0M</td>\n",
       "      <td>10,000+</td>\n",
       "      <td>Free</td>\n",
       "      <td>0</td>\n",
       "      <td>Everyone</td>\n",
       "      <td>Communication</td>\n",
       "      <td>February 10, 2017</td>\n",
       "      <td>0.1</td>\n",
       "      <td>2.3 and up</td>\n",
       "    </tr>\n",
       "    <tr>\n",
       "      <th>10471</th>\n",
       "      <td>Xposed Wi-Fi-Pwd</td>\n",
       "      <td>PERSONALIZATION</td>\n",
       "      <td>3.5</td>\n",
       "      <td>1042</td>\n",
       "      <td>404k</td>\n",
       "      <td>100,000+</td>\n",
       "      <td>Free</td>\n",
       "      <td>0</td>\n",
       "      <td>Everyone</td>\n",
       "      <td>Personalization</td>\n",
       "      <td>August 5, 2014</td>\n",
       "      <td>3.0.0</td>\n",
       "      <td>4.0.3 and up</td>\n",
       "    </tr>\n",
       "    <tr>\n",
       "      <th>10472</th>\n",
       "      <td>Life Made WI-Fi Touchscreen Photo Frame</td>\n",
       "      <td>1.9</td>\n",
       "      <td>19.0</td>\n",
       "      <td>3.0M</td>\n",
       "      <td>1,000+</td>\n",
       "      <td>Free</td>\n",
       "      <td>0</td>\n",
       "      <td>Everyone</td>\n",
       "      <td>NaN</td>\n",
       "      <td>February 11, 2018</td>\n",
       "      <td>1.0.19</td>\n",
       "      <td>4.0 and up</td>\n",
       "      <td>NaN</td>\n",
       "    </tr>\n",
       "    <tr>\n",
       "      <th>10473</th>\n",
       "      <td>osmino Wi-Fi: free WiFi</td>\n",
       "      <td>TOOLS</td>\n",
       "      <td>4.2</td>\n",
       "      <td>134203</td>\n",
       "      <td>4.1M</td>\n",
       "      <td>10,000,000+</td>\n",
       "      <td>Free</td>\n",
       "      <td>0</td>\n",
       "      <td>Everyone</td>\n",
       "      <td>Tools</td>\n",
       "      <td>August 7, 2018</td>\n",
       "      <td>6.06.14</td>\n",
       "      <td>4.4 and up</td>\n",
       "    </tr>\n",
       "    <tr>\n",
       "      <th>10474</th>\n",
       "      <td>Sat-Fi Voice</td>\n",
       "      <td>COMMUNICATION</td>\n",
       "      <td>3.4</td>\n",
       "      <td>37</td>\n",
       "      <td>14M</td>\n",
       "      <td>1,000+</td>\n",
       "      <td>Free</td>\n",
       "      <td>0</td>\n",
       "      <td>Everyone</td>\n",
       "      <td>Communication</td>\n",
       "      <td>November 21, 2014</td>\n",
       "      <td>2.2.1.5</td>\n",
       "      <td>2.2 and up</td>\n",
       "    </tr>\n",
       "    <tr>\n",
       "      <th>10475</th>\n",
       "      <td>Wi-Fi Visualizer</td>\n",
       "      <td>TOOLS</td>\n",
       "      <td>3.9</td>\n",
       "      <td>132</td>\n",
       "      <td>2.6M</td>\n",
       "      <td>50,000+</td>\n",
       "      <td>Free</td>\n",
       "      <td>0</td>\n",
       "      <td>Everyone</td>\n",
       "      <td>Tools</td>\n",
       "      <td>May 17, 2017</td>\n",
       "      <td>0.0.9</td>\n",
       "      <td>2.3 and up</td>\n",
       "    </tr>\n",
       "    <tr>\n",
       "      <th>10476</th>\n",
       "      <td>Lennox iComfort Wi-Fi</td>\n",
       "      <td>LIFESTYLE</td>\n",
       "      <td>3.0</td>\n",
       "      <td>552</td>\n",
       "      <td>7.6M</td>\n",
       "      <td>50,000+</td>\n",
       "      <td>Free</td>\n",
       "      <td>0</td>\n",
       "      <td>Everyone</td>\n",
       "      <td>Lifestyle</td>\n",
       "      <td>March 22, 2017</td>\n",
       "      <td>2.0.15</td>\n",
       "      <td>2.3.3 and up</td>\n",
       "    </tr>\n",
       "    <tr>\n",
       "      <th>10477</th>\n",
       "      <td>Sci-Fi Sounds and Ringtones</td>\n",
       "      <td>PERSONALIZATION</td>\n",
       "      <td>3.6</td>\n",
       "      <td>128</td>\n",
       "      <td>11M</td>\n",
       "      <td>10,000+</td>\n",
       "      <td>Free</td>\n",
       "      <td>0</td>\n",
       "      <td>Everyone</td>\n",
       "      <td>Personalization</td>\n",
       "      <td>September 27, 2017</td>\n",
       "      <td>4.0</td>\n",
       "      <td>4.0 and up</td>\n",
       "    </tr>\n",
       "  </tbody>\n",
       "</table>\n",
       "</div>"
      ],
      "text/plain": [
       "                                           App         Category  Rating  \\\n",
       "10468                         Tassa.fi Finland        LIFESTYLE     3.6   \n",
       "10469              TownWiFi | Wi-Fi Everywhere    COMMUNICATION     3.9   \n",
       "10470                               Jazz Wi-Fi    COMMUNICATION     3.4   \n",
       "10471                         Xposed Wi-Fi-Pwd  PERSONALIZATION     3.5   \n",
       "10472  Life Made WI-Fi Touchscreen Photo Frame              1.9    19.0   \n",
       "10473                  osmino Wi-Fi: free WiFi            TOOLS     4.2   \n",
       "10474                             Sat-Fi Voice    COMMUNICATION     3.4   \n",
       "10475                         Wi-Fi Visualizer            TOOLS     3.9   \n",
       "10476                    Lennox iComfort Wi-Fi        LIFESTYLE     3.0   \n",
       "10477              Sci-Fi Sounds and Ringtones  PERSONALIZATION     3.6   \n",
       "\n",
       "      Reviews    Size     Installs  Type     Price Content Rating  \\\n",
       "10468     346    7.5M      50,000+  Free         0       Everyone   \n",
       "10469    2372     58M     500,000+  Free         0       Everyone   \n",
       "10470      49    4.0M      10,000+  Free         0       Everyone   \n",
       "10471    1042    404k     100,000+  Free         0       Everyone   \n",
       "10472    3.0M  1,000+         Free     0  Everyone            NaN   \n",
       "10473  134203    4.1M  10,000,000+  Free         0       Everyone   \n",
       "10474      37     14M       1,000+  Free         0       Everyone   \n",
       "10475     132    2.6M      50,000+  Free         0       Everyone   \n",
       "10476     552    7.6M      50,000+  Free         0       Everyone   \n",
       "10477     128     11M      10,000+  Free         0       Everyone   \n",
       "\n",
       "                  Genres        Last Updated Current Ver   Android Ver  \n",
       "10468          Lifestyle        May 22, 2018         5.5    4.0 and up  \n",
       "10469      Communication      August 2, 2018       4.2.1    4.2 and up  \n",
       "10470      Communication   February 10, 2017         0.1    2.3 and up  \n",
       "10471    Personalization      August 5, 2014       3.0.0  4.0.3 and up  \n",
       "10472  February 11, 2018              1.0.19  4.0 and up           NaN  \n",
       "10473              Tools      August 7, 2018     6.06.14    4.4 and up  \n",
       "10474      Communication   November 21, 2014     2.2.1.5    2.2 and up  \n",
       "10475              Tools        May 17, 2017       0.0.9    2.3 and up  \n",
       "10476          Lifestyle      March 22, 2017      2.0.15  2.3.3 and up  \n",
       "10477    Personalization  September 27, 2017         4.0    4.0 and up  "
      ]
     },
     "execution_count": 98,
     "metadata": {},
     "output_type": "execute_result"
    }
   ],
   "source": [
    "data.loc[10468:10477, :]"
   ]
  },
  {
   "cell_type": "code",
   "execution_count": 99,
   "id": "ce8e8f14",
   "metadata": {},
   "outputs": [],
   "source": [
    "# Droping the rows from Content Rating Column \n",
    "data.dropna(subset =['Content Rating'], inplace =True)"
   ]
  },
  {
   "cell_type": "raw",
   "id": "5aab5b7b",
   "metadata": {},
   "source": [
    "Droping Unwanted Columns"
   ]
  },
  {
   "cell_type": "code",
   "execution_count": 100,
   "id": "303da609",
   "metadata": {},
   "outputs": [],
   "source": [
    "data.drop(['Current Ver','Last Updated', 'Android Ver'], axis=1,inplace = True)"
   ]
  },
  {
   "cell_type": "code",
   "execution_count": 101,
   "id": "6d7e2cc1",
   "metadata": {},
   "outputs": [
    {
     "data": {
      "text/html": [
       "<div>\n",
       "<style scoped>\n",
       "    .dataframe tbody tr th:only-of-type {\n",
       "        vertical-align: middle;\n",
       "    }\n",
       "\n",
       "    .dataframe tbody tr th {\n",
       "        vertical-align: top;\n",
       "    }\n",
       "\n",
       "    .dataframe thead th {\n",
       "        text-align: right;\n",
       "    }\n",
       "</style>\n",
       "<table border=\"1\" class=\"dataframe\">\n",
       "  <thead>\n",
       "    <tr style=\"text-align: right;\">\n",
       "      <th></th>\n",
       "      <th>App</th>\n",
       "      <th>Category</th>\n",
       "      <th>Rating</th>\n",
       "      <th>Reviews</th>\n",
       "      <th>Size</th>\n",
       "      <th>Installs</th>\n",
       "      <th>Type</th>\n",
       "      <th>Price</th>\n",
       "      <th>Content Rating</th>\n",
       "      <th>Genres</th>\n",
       "    </tr>\n",
       "  </thead>\n",
       "  <tbody>\n",
       "    <tr>\n",
       "      <th>0</th>\n",
       "      <td>Photo Editor &amp; Candy Camera &amp; Grid &amp; ScrapBook</td>\n",
       "      <td>ART_AND_DESIGN</td>\n",
       "      <td>4.1</td>\n",
       "      <td>159</td>\n",
       "      <td>19M</td>\n",
       "      <td>10,000+</td>\n",
       "      <td>Free</td>\n",
       "      <td>0</td>\n",
       "      <td>Everyone</td>\n",
       "      <td>Art &amp; Design</td>\n",
       "    </tr>\n",
       "    <tr>\n",
       "      <th>1</th>\n",
       "      <td>Coloring book moana</td>\n",
       "      <td>ART_AND_DESIGN</td>\n",
       "      <td>3.9</td>\n",
       "      <td>967</td>\n",
       "      <td>14M</td>\n",
       "      <td>500,000+</td>\n",
       "      <td>Free</td>\n",
       "      <td>0</td>\n",
       "      <td>Everyone</td>\n",
       "      <td>Art &amp; Design;Pretend Play</td>\n",
       "    </tr>\n",
       "    <tr>\n",
       "      <th>2</th>\n",
       "      <td>U Launcher Lite – FREE Live Cool Themes, Hide ...</td>\n",
       "      <td>ART_AND_DESIGN</td>\n",
       "      <td>4.7</td>\n",
       "      <td>87510</td>\n",
       "      <td>8.7M</td>\n",
       "      <td>5,000,000+</td>\n",
       "      <td>Free</td>\n",
       "      <td>0</td>\n",
       "      <td>Everyone</td>\n",
       "      <td>Art &amp; Design</td>\n",
       "    </tr>\n",
       "    <tr>\n",
       "      <th>3</th>\n",
       "      <td>Sketch - Draw &amp; Paint</td>\n",
       "      <td>ART_AND_DESIGN</td>\n",
       "      <td>4.5</td>\n",
       "      <td>215644</td>\n",
       "      <td>25M</td>\n",
       "      <td>50,000,000+</td>\n",
       "      <td>Free</td>\n",
       "      <td>0</td>\n",
       "      <td>Teen</td>\n",
       "      <td>Art &amp; Design</td>\n",
       "    </tr>\n",
       "    <tr>\n",
       "      <th>4</th>\n",
       "      <td>Pixel Draw - Number Art Coloring Book</td>\n",
       "      <td>ART_AND_DESIGN</td>\n",
       "      <td>4.3</td>\n",
       "      <td>967</td>\n",
       "      <td>2.8M</td>\n",
       "      <td>100,000+</td>\n",
       "      <td>Free</td>\n",
       "      <td>0</td>\n",
       "      <td>Everyone</td>\n",
       "      <td>Art &amp; Design;Creativity</td>\n",
       "    </tr>\n",
       "  </tbody>\n",
       "</table>\n",
       "</div>"
      ],
      "text/plain": [
       "                                                 App        Category  Rating  \\\n",
       "0     Photo Editor & Candy Camera & Grid & ScrapBook  ART_AND_DESIGN     4.1   \n",
       "1                                Coloring book moana  ART_AND_DESIGN     3.9   \n",
       "2  U Launcher Lite – FREE Live Cool Themes, Hide ...  ART_AND_DESIGN     4.7   \n",
       "3                              Sketch - Draw & Paint  ART_AND_DESIGN     4.5   \n",
       "4              Pixel Draw - Number Art Coloring Book  ART_AND_DESIGN     4.3   \n",
       "\n",
       "  Reviews  Size     Installs  Type Price Content Rating  \\\n",
       "0     159   19M      10,000+  Free     0       Everyone   \n",
       "1     967   14M     500,000+  Free     0       Everyone   \n",
       "2   87510  8.7M   5,000,000+  Free     0       Everyone   \n",
       "3  215644   25M  50,000,000+  Free     0           Teen   \n",
       "4     967  2.8M     100,000+  Free     0       Everyone   \n",
       "\n",
       "                      Genres  \n",
       "0               Art & Design  \n",
       "1  Art & Design;Pretend Play  \n",
       "2               Art & Design  \n",
       "3               Art & Design  \n",
       "4    Art & Design;Creativity  "
      ]
     },
     "execution_count": 101,
     "metadata": {},
     "output_type": "execute_result"
    }
   ],
   "source": [
    "data.head()"
   ]
  },
  {
   "cell_type": "code",
   "execution_count": 102,
   "id": "ca93841e",
   "metadata": {},
   "outputs": [],
   "source": [
    "# lets Replace the missing values in Rating Column using Mode value for that entire column"
   ]
  },
  {
   "cell_type": "code",
   "execution_count": 103,
   "id": "44e6b0d5",
   "metadata": {},
   "outputs": [],
   "source": [
    "modeValueRating = data['Rating'].mode()"
   ]
  },
  {
   "cell_type": "code",
   "execution_count": 104,
   "id": "57a2aaf8",
   "metadata": {},
   "outputs": [
    {
     "data": {
      "text/plain": [
       "4.4"
      ]
     },
     "execution_count": 104,
     "metadata": {},
     "output_type": "execute_result"
    }
   ],
   "source": [
    "modeValueRating[0]"
   ]
  },
  {
   "cell_type": "code",
   "execution_count": 105,
   "id": "34edd7a1",
   "metadata": {},
   "outputs": [],
   "source": [
    "data['Rating'].fillna(value =modeValueRating[0], inplace = True)"
   ]
  },
  {
   "cell_type": "code",
   "execution_count": 106,
   "id": "7582ebbe",
   "metadata": {},
   "outputs": [
    {
     "data": {
      "text/html": [
       "<div>\n",
       "<style scoped>\n",
       "    .dataframe tbody tr th:only-of-type {\n",
       "        vertical-align: middle;\n",
       "    }\n",
       "\n",
       "    .dataframe tbody tr th {\n",
       "        vertical-align: top;\n",
       "    }\n",
       "\n",
       "    .dataframe thead th {\n",
       "        text-align: right;\n",
       "    }\n",
       "</style>\n",
       "<table border=\"1\" class=\"dataframe\">\n",
       "  <thead>\n",
       "    <tr style=\"text-align: right;\">\n",
       "      <th></th>\n",
       "      <th>data_type</th>\n",
       "      <th>null_count</th>\n",
       "      <th>unique_count</th>\n",
       "    </tr>\n",
       "  </thead>\n",
       "  <tbody>\n",
       "    <tr>\n",
       "      <th>App</th>\n",
       "      <td>object</td>\n",
       "      <td>0</td>\n",
       "      <td>9659</td>\n",
       "    </tr>\n",
       "    <tr>\n",
       "      <th>Category</th>\n",
       "      <td>object</td>\n",
       "      <td>0</td>\n",
       "      <td>33</td>\n",
       "    </tr>\n",
       "    <tr>\n",
       "      <th>Rating</th>\n",
       "      <td>float64</td>\n",
       "      <td>0</td>\n",
       "      <td>39</td>\n",
       "    </tr>\n",
       "    <tr>\n",
       "      <th>Reviews</th>\n",
       "      <td>object</td>\n",
       "      <td>0</td>\n",
       "      <td>6001</td>\n",
       "    </tr>\n",
       "    <tr>\n",
       "      <th>Size</th>\n",
       "      <td>object</td>\n",
       "      <td>0</td>\n",
       "      <td>461</td>\n",
       "    </tr>\n",
       "    <tr>\n",
       "      <th>Installs</th>\n",
       "      <td>object</td>\n",
       "      <td>0</td>\n",
       "      <td>21</td>\n",
       "    </tr>\n",
       "    <tr>\n",
       "      <th>Type</th>\n",
       "      <td>object</td>\n",
       "      <td>0</td>\n",
       "      <td>2</td>\n",
       "    </tr>\n",
       "    <tr>\n",
       "      <th>Price</th>\n",
       "      <td>object</td>\n",
       "      <td>0</td>\n",
       "      <td>92</td>\n",
       "    </tr>\n",
       "    <tr>\n",
       "      <th>Content Rating</th>\n",
       "      <td>object</td>\n",
       "      <td>0</td>\n",
       "      <td>6</td>\n",
       "    </tr>\n",
       "    <tr>\n",
       "      <th>Genres</th>\n",
       "      <td>object</td>\n",
       "      <td>0</td>\n",
       "      <td>119</td>\n",
       "    </tr>\n",
       "  </tbody>\n",
       "</table>\n",
       "</div>"
      ],
      "text/plain": [
       "               data_type  null_count  unique_count\n",
       "App               object           0          9659\n",
       "Category          object           0            33\n",
       "Rating           float64           0            39\n",
       "Reviews           object           0          6001\n",
       "Size              object           0           461\n",
       "Installs          object           0            21\n",
       "Type              object           0             2\n",
       "Price             object           0            92\n",
       "Content Rating    object           0             6\n",
       "Genres            object           0           119"
      ]
     },
     "execution_count": 106,
     "metadata": {},
     "output_type": "execute_result"
    }
   ],
   "source": [
    "printinfo()"
   ]
  },
  {
   "cell_type": "markdown",
   "id": "ad71afe7",
   "metadata": {},
   "source": [
    "Now we are done with the data cleansing part and in a state to start the work for data preparation"
   ]
  },
  {
   "cell_type": "markdown",
   "id": "35bd852c",
   "metadata": {},
   "source": [
    "# Converting Datatypes of Column"
   ]
  },
  {
   "cell_type": "markdown",
   "id": "65635faf",
   "metadata": {},
   "source": [
    "Converting the Reviews column in integer"
   ]
  },
  {
   "cell_type": "code",
   "execution_count": 107,
   "id": "3ffc7d69",
   "metadata": {},
   "outputs": [],
   "source": [
    "data['Reviews'] = data.Reviews.astype(int)"
   ]
  },
  {
   "cell_type": "code",
   "execution_count": 108,
   "id": "3ac815bb",
   "metadata": {
    "scrolled": true
   },
   "outputs": [
    {
     "data": {
      "text/html": [
       "<div>\n",
       "<style scoped>\n",
       "    .dataframe tbody tr th:only-of-type {\n",
       "        vertical-align: middle;\n",
       "    }\n",
       "\n",
       "    .dataframe tbody tr th {\n",
       "        vertical-align: top;\n",
       "    }\n",
       "\n",
       "    .dataframe thead th {\n",
       "        text-align: right;\n",
       "    }\n",
       "</style>\n",
       "<table border=\"1\" class=\"dataframe\">\n",
       "  <thead>\n",
       "    <tr style=\"text-align: right;\">\n",
       "      <th></th>\n",
       "      <th>data_type</th>\n",
       "      <th>null_count</th>\n",
       "      <th>unique_count</th>\n",
       "    </tr>\n",
       "  </thead>\n",
       "  <tbody>\n",
       "    <tr>\n",
       "      <th>App</th>\n",
       "      <td>object</td>\n",
       "      <td>0</td>\n",
       "      <td>9659</td>\n",
       "    </tr>\n",
       "    <tr>\n",
       "      <th>Category</th>\n",
       "      <td>object</td>\n",
       "      <td>0</td>\n",
       "      <td>33</td>\n",
       "    </tr>\n",
       "    <tr>\n",
       "      <th>Rating</th>\n",
       "      <td>float64</td>\n",
       "      <td>0</td>\n",
       "      <td>39</td>\n",
       "    </tr>\n",
       "    <tr>\n",
       "      <th>Reviews</th>\n",
       "      <td>int32</td>\n",
       "      <td>0</td>\n",
       "      <td>6001</td>\n",
       "    </tr>\n",
       "    <tr>\n",
       "      <th>Size</th>\n",
       "      <td>object</td>\n",
       "      <td>0</td>\n",
       "      <td>461</td>\n",
       "    </tr>\n",
       "    <tr>\n",
       "      <th>Installs</th>\n",
       "      <td>object</td>\n",
       "      <td>0</td>\n",
       "      <td>21</td>\n",
       "    </tr>\n",
       "    <tr>\n",
       "      <th>Type</th>\n",
       "      <td>object</td>\n",
       "      <td>0</td>\n",
       "      <td>2</td>\n",
       "    </tr>\n",
       "    <tr>\n",
       "      <th>Price</th>\n",
       "      <td>object</td>\n",
       "      <td>0</td>\n",
       "      <td>92</td>\n",
       "    </tr>\n",
       "    <tr>\n",
       "      <th>Content Rating</th>\n",
       "      <td>object</td>\n",
       "      <td>0</td>\n",
       "      <td>6</td>\n",
       "    </tr>\n",
       "    <tr>\n",
       "      <th>Genres</th>\n",
       "      <td>object</td>\n",
       "      <td>0</td>\n",
       "      <td>119</td>\n",
       "    </tr>\n",
       "  </tbody>\n",
       "</table>\n",
       "</div>"
      ],
      "text/plain": [
       "               data_type  null_count  unique_count\n",
       "App               object           0          9659\n",
       "Category          object           0            33\n",
       "Rating           float64           0            39\n",
       "Reviews            int32           0          6001\n",
       "Size              object           0           461\n",
       "Installs          object           0            21\n",
       "Type              object           0             2\n",
       "Price             object           0            92\n",
       "Content Rating    object           0             6\n",
       "Genres            object           0           119"
      ]
     },
     "execution_count": 108,
     "metadata": {},
     "output_type": "execute_result"
    }
   ],
   "source": [
    "printinfo()"
   ]
  },
  {
   "cell_type": "markdown",
   "id": "b06cfad3",
   "metadata": {},
   "source": [
    "## Column Size"
   ]
  },
  {
   "cell_type": "code",
   "execution_count": 109,
   "id": "c3ab3d00",
   "metadata": {},
   "outputs": [],
   "source": [
    "#Converting the Size column in integer"
   ]
  },
  {
   "cell_type": "code",
   "execution_count": 110,
   "id": "bb3f2ea8",
   "metadata": {},
   "outputs": [],
   "source": [
    "data['Size'] = data.Size.apply(lambda x: x.strip('+')) # Removing + sign"
   ]
  },
  {
   "cell_type": "code",
   "execution_count": 111,
   "id": "a168087a",
   "metadata": {},
   "outputs": [],
   "source": [
    "data['Size'] = data.Size.apply(lambda x : x.replace(',', '')) # removing the ','"
   ]
  },
  {
   "cell_type": "code",
   "execution_count": 112,
   "id": "a17c9cbc",
   "metadata": {},
   "outputs": [],
   "source": [
    "data['Size'] = data.Size.apply(lambda x: x.replace('M', 'e+6'))# For converting the M to Mega"
   ]
  },
  {
   "cell_type": "code",
   "execution_count": 113,
   "id": "94c63e53",
   "metadata": {},
   "outputs": [],
   "source": [
    "data['Size'] = data.Size.apply(lambda x : x.replace('k','e+3'))  # Converting k to kilo"
   ]
  },
  {
   "cell_type": "code",
   "execution_count": 114,
   "id": "027f954a",
   "metadata": {},
   "outputs": [],
   "source": [
    "data['Size'] = data.Size.replace('Varies with device', np.NaN)"
   ]
  },
  {
   "cell_type": "code",
   "execution_count": 115,
   "id": "4c3ca87a",
   "metadata": {},
   "outputs": [],
   "source": [
    "# Converting to Numeric Type"
   ]
  },
  {
   "cell_type": "code",
   "execution_count": 116,
   "id": "fd50fb67",
   "metadata": {},
   "outputs": [
    {
     "data": {
      "text/html": [
       "<div>\n",
       "<style scoped>\n",
       "    .dataframe tbody tr th:only-of-type {\n",
       "        vertical-align: middle;\n",
       "    }\n",
       "\n",
       "    .dataframe tbody tr th {\n",
       "        vertical-align: top;\n",
       "    }\n",
       "\n",
       "    .dataframe thead th {\n",
       "        text-align: right;\n",
       "    }\n",
       "</style>\n",
       "<table border=\"1\" class=\"dataframe\">\n",
       "  <thead>\n",
       "    <tr style=\"text-align: right;\">\n",
       "      <th></th>\n",
       "      <th>data_type</th>\n",
       "      <th>null_count</th>\n",
       "      <th>unique_count</th>\n",
       "    </tr>\n",
       "  </thead>\n",
       "  <tbody>\n",
       "    <tr>\n",
       "      <th>App</th>\n",
       "      <td>object</td>\n",
       "      <td>0</td>\n",
       "      <td>9659</td>\n",
       "    </tr>\n",
       "    <tr>\n",
       "      <th>Category</th>\n",
       "      <td>object</td>\n",
       "      <td>0</td>\n",
       "      <td>33</td>\n",
       "    </tr>\n",
       "    <tr>\n",
       "      <th>Rating</th>\n",
       "      <td>float64</td>\n",
       "      <td>0</td>\n",
       "      <td>39</td>\n",
       "    </tr>\n",
       "    <tr>\n",
       "      <th>Reviews</th>\n",
       "      <td>int32</td>\n",
       "      <td>0</td>\n",
       "      <td>6001</td>\n",
       "    </tr>\n",
       "    <tr>\n",
       "      <th>Size</th>\n",
       "      <td>object</td>\n",
       "      <td>1695</td>\n",
       "      <td>460</td>\n",
       "    </tr>\n",
       "    <tr>\n",
       "      <th>Installs</th>\n",
       "      <td>object</td>\n",
       "      <td>0</td>\n",
       "      <td>21</td>\n",
       "    </tr>\n",
       "    <tr>\n",
       "      <th>Type</th>\n",
       "      <td>object</td>\n",
       "      <td>0</td>\n",
       "      <td>2</td>\n",
       "    </tr>\n",
       "    <tr>\n",
       "      <th>Price</th>\n",
       "      <td>object</td>\n",
       "      <td>0</td>\n",
       "      <td>92</td>\n",
       "    </tr>\n",
       "    <tr>\n",
       "      <th>Content Rating</th>\n",
       "      <td>object</td>\n",
       "      <td>0</td>\n",
       "      <td>6</td>\n",
       "    </tr>\n",
       "    <tr>\n",
       "      <th>Genres</th>\n",
       "      <td>object</td>\n",
       "      <td>0</td>\n",
       "      <td>119</td>\n",
       "    </tr>\n",
       "  </tbody>\n",
       "</table>\n",
       "</div>"
      ],
      "text/plain": [
       "               data_type  null_count  unique_count\n",
       "App               object           0          9659\n",
       "Category          object           0            33\n",
       "Rating           float64           0            39\n",
       "Reviews            int32           0          6001\n",
       "Size              object        1695           460\n",
       "Installs          object           0            21\n",
       "Type              object           0             2\n",
       "Price             object           0            92\n",
       "Content Rating    object           0             6\n",
       "Genres            object           0           119"
      ]
     },
     "execution_count": 116,
     "metadata": {},
     "output_type": "execute_result"
    }
   ],
   "source": [
    "printinfo()"
   ]
  },
  {
   "cell_type": "code",
   "execution_count": 117,
   "id": "0f338f6c",
   "metadata": {},
   "outputs": [],
   "source": [
    "# Converting to numeric \n",
    "data['Size'] = pd.to_numeric(data['Size'])"
   ]
  },
  {
   "cell_type": "code",
   "execution_count": 118,
   "id": "2531677f",
   "metadata": {},
   "outputs": [
    {
     "data": {
      "text/html": [
       "<div>\n",
       "<style scoped>\n",
       "    .dataframe tbody tr th:only-of-type {\n",
       "        vertical-align: middle;\n",
       "    }\n",
       "\n",
       "    .dataframe tbody tr th {\n",
       "        vertical-align: top;\n",
       "    }\n",
       "\n",
       "    .dataframe thead th {\n",
       "        text-align: right;\n",
       "    }\n",
       "</style>\n",
       "<table border=\"1\" class=\"dataframe\">\n",
       "  <thead>\n",
       "    <tr style=\"text-align: right;\">\n",
       "      <th></th>\n",
       "      <th>data_type</th>\n",
       "      <th>null_count</th>\n",
       "      <th>unique_count</th>\n",
       "    </tr>\n",
       "  </thead>\n",
       "  <tbody>\n",
       "    <tr>\n",
       "      <th>App</th>\n",
       "      <td>object</td>\n",
       "      <td>0</td>\n",
       "      <td>9659</td>\n",
       "    </tr>\n",
       "    <tr>\n",
       "      <th>Category</th>\n",
       "      <td>object</td>\n",
       "      <td>0</td>\n",
       "      <td>33</td>\n",
       "    </tr>\n",
       "    <tr>\n",
       "      <th>Rating</th>\n",
       "      <td>float64</td>\n",
       "      <td>0</td>\n",
       "      <td>39</td>\n",
       "    </tr>\n",
       "    <tr>\n",
       "      <th>Reviews</th>\n",
       "      <td>int32</td>\n",
       "      <td>0</td>\n",
       "      <td>6001</td>\n",
       "    </tr>\n",
       "    <tr>\n",
       "      <th>Size</th>\n",
       "      <td>float64</td>\n",
       "      <td>1695</td>\n",
       "      <td>459</td>\n",
       "    </tr>\n",
       "    <tr>\n",
       "      <th>Installs</th>\n",
       "      <td>object</td>\n",
       "      <td>0</td>\n",
       "      <td>21</td>\n",
       "    </tr>\n",
       "    <tr>\n",
       "      <th>Type</th>\n",
       "      <td>object</td>\n",
       "      <td>0</td>\n",
       "      <td>2</td>\n",
       "    </tr>\n",
       "    <tr>\n",
       "      <th>Price</th>\n",
       "      <td>object</td>\n",
       "      <td>0</td>\n",
       "      <td>92</td>\n",
       "    </tr>\n",
       "    <tr>\n",
       "      <th>Content Rating</th>\n",
       "      <td>object</td>\n",
       "      <td>0</td>\n",
       "      <td>6</td>\n",
       "    </tr>\n",
       "    <tr>\n",
       "      <th>Genres</th>\n",
       "      <td>object</td>\n",
       "      <td>0</td>\n",
       "      <td>119</td>\n",
       "    </tr>\n",
       "  </tbody>\n",
       "</table>\n",
       "</div>"
      ],
      "text/plain": [
       "               data_type  null_count  unique_count\n",
       "App               object           0          9659\n",
       "Category          object           0            33\n",
       "Rating           float64           0            39\n",
       "Reviews            int32           0          6001\n",
       "Size             float64        1695           459\n",
       "Installs          object           0            21\n",
       "Type              object           0             2\n",
       "Price             object           0            92\n",
       "Content Rating    object           0             6\n",
       "Genres            object           0           119"
      ]
     },
     "execution_count": 118,
     "metadata": {},
     "output_type": "execute_result"
    }
   ],
   "source": [
    "printinfo()"
   ]
  },
  {
   "cell_type": "raw",
   "id": "9a5d3980",
   "metadata": {},
   "source": [
    "droping the Nan values in Size columns"
   ]
  },
  {
   "cell_type": "code",
   "execution_count": 119,
   "id": "f6e5e91f",
   "metadata": {},
   "outputs": [],
   "source": [
    "data.dropna(subset =['Size'],inplace = True)"
   ]
  },
  {
   "cell_type": "code",
   "execution_count": 120,
   "id": "323c0f45",
   "metadata": {},
   "outputs": [
    {
     "data": {
      "text/html": [
       "<div>\n",
       "<style scoped>\n",
       "    .dataframe tbody tr th:only-of-type {\n",
       "        vertical-align: middle;\n",
       "    }\n",
       "\n",
       "    .dataframe tbody tr th {\n",
       "        vertical-align: top;\n",
       "    }\n",
       "\n",
       "    .dataframe thead th {\n",
       "        text-align: right;\n",
       "    }\n",
       "</style>\n",
       "<table border=\"1\" class=\"dataframe\">\n",
       "  <thead>\n",
       "    <tr style=\"text-align: right;\">\n",
       "      <th></th>\n",
       "      <th>data_type</th>\n",
       "      <th>null_count</th>\n",
       "      <th>unique_count</th>\n",
       "    </tr>\n",
       "  </thead>\n",
       "  <tbody>\n",
       "    <tr>\n",
       "      <th>App</th>\n",
       "      <td>object</td>\n",
       "      <td>0</td>\n",
       "      <td>8434</td>\n",
       "    </tr>\n",
       "    <tr>\n",
       "      <th>Category</th>\n",
       "      <td>object</td>\n",
       "      <td>0</td>\n",
       "      <td>33</td>\n",
       "    </tr>\n",
       "    <tr>\n",
       "      <th>Rating</th>\n",
       "      <td>float64</td>\n",
       "      <td>0</td>\n",
       "      <td>39</td>\n",
       "    </tr>\n",
       "    <tr>\n",
       "      <th>Reviews</th>\n",
       "      <td>int32</td>\n",
       "      <td>0</td>\n",
       "      <td>4680</td>\n",
       "    </tr>\n",
       "    <tr>\n",
       "      <th>Size</th>\n",
       "      <td>float64</td>\n",
       "      <td>0</td>\n",
       "      <td>459</td>\n",
       "    </tr>\n",
       "    <tr>\n",
       "      <th>Installs</th>\n",
       "      <td>object</td>\n",
       "      <td>0</td>\n",
       "      <td>20</td>\n",
       "    </tr>\n",
       "    <tr>\n",
       "      <th>Type</th>\n",
       "      <td>object</td>\n",
       "      <td>0</td>\n",
       "      <td>2</td>\n",
       "    </tr>\n",
       "    <tr>\n",
       "      <th>Price</th>\n",
       "      <td>object</td>\n",
       "      <td>0</td>\n",
       "      <td>87</td>\n",
       "    </tr>\n",
       "    <tr>\n",
       "      <th>Content Rating</th>\n",
       "      <td>object</td>\n",
       "      <td>0</td>\n",
       "      <td>6</td>\n",
       "    </tr>\n",
       "    <tr>\n",
       "      <th>Genres</th>\n",
       "      <td>object</td>\n",
       "      <td>0</td>\n",
       "      <td>116</td>\n",
       "    </tr>\n",
       "  </tbody>\n",
       "</table>\n",
       "</div>"
      ],
      "text/plain": [
       "               data_type  null_count  unique_count\n",
       "App               object           0          8434\n",
       "Category          object           0            33\n",
       "Rating           float64           0            39\n",
       "Reviews            int32           0          4680\n",
       "Size             float64           0           459\n",
       "Installs          object           0            20\n",
       "Type              object           0             2\n",
       "Price             object           0            87\n",
       "Content Rating    object           0             6\n",
       "Genres            object           0           116"
      ]
     },
     "execution_count": 120,
     "metadata": {},
     "output_type": "execute_result"
    }
   ],
   "source": [
    "printinfo()"
   ]
  },
  {
   "cell_type": "markdown",
   "id": "c1f0f5b1",
   "metadata": {},
   "source": [
    "## Columns Installs "
   ]
  },
  {
   "cell_type": "code",
   "execution_count": 121,
   "id": "4f00eb37",
   "metadata": {},
   "outputs": [],
   "source": [
    "data['Installs'] = data.Installs.apply(lambda x:x.strip('+'))  # removing + sign"
   ]
  },
  {
   "cell_type": "code",
   "execution_count": 122,
   "id": "69d87cb3",
   "metadata": {},
   "outputs": [],
   "source": [
    "data['Installs'] = data.Installs.apply(lambda x: x.replace(',','')) # Removing ',' Sign"
   ]
  },
  {
   "cell_type": "code",
   "execution_count": 123,
   "id": "db4ce96c",
   "metadata": {},
   "outputs": [],
   "source": [
    "# Converting to Numeric "
   ]
  },
  {
   "cell_type": "code",
   "execution_count": 124,
   "id": "e1c073f0",
   "metadata": {},
   "outputs": [],
   "source": [
    "data['Installs'] = pd.to_numeric(data['Installs'])"
   ]
  },
  {
   "cell_type": "code",
   "execution_count": 125,
   "id": "4e1974a1",
   "metadata": {},
   "outputs": [
    {
     "data": {
      "text/html": [
       "<div>\n",
       "<style scoped>\n",
       "    .dataframe tbody tr th:only-of-type {\n",
       "        vertical-align: middle;\n",
       "    }\n",
       "\n",
       "    .dataframe tbody tr th {\n",
       "        vertical-align: top;\n",
       "    }\n",
       "\n",
       "    .dataframe thead th {\n",
       "        text-align: right;\n",
       "    }\n",
       "</style>\n",
       "<table border=\"1\" class=\"dataframe\">\n",
       "  <thead>\n",
       "    <tr style=\"text-align: right;\">\n",
       "      <th></th>\n",
       "      <th>data_type</th>\n",
       "      <th>null_count</th>\n",
       "      <th>unique_count</th>\n",
       "    </tr>\n",
       "  </thead>\n",
       "  <tbody>\n",
       "    <tr>\n",
       "      <th>App</th>\n",
       "      <td>object</td>\n",
       "      <td>0</td>\n",
       "      <td>8434</td>\n",
       "    </tr>\n",
       "    <tr>\n",
       "      <th>Category</th>\n",
       "      <td>object</td>\n",
       "      <td>0</td>\n",
       "      <td>33</td>\n",
       "    </tr>\n",
       "    <tr>\n",
       "      <th>Rating</th>\n",
       "      <td>float64</td>\n",
       "      <td>0</td>\n",
       "      <td>39</td>\n",
       "    </tr>\n",
       "    <tr>\n",
       "      <th>Reviews</th>\n",
       "      <td>int32</td>\n",
       "      <td>0</td>\n",
       "      <td>4680</td>\n",
       "    </tr>\n",
       "    <tr>\n",
       "      <th>Size</th>\n",
       "      <td>float64</td>\n",
       "      <td>0</td>\n",
       "      <td>459</td>\n",
       "    </tr>\n",
       "    <tr>\n",
       "      <th>Installs</th>\n",
       "      <td>int64</td>\n",
       "      <td>0</td>\n",
       "      <td>20</td>\n",
       "    </tr>\n",
       "    <tr>\n",
       "      <th>Type</th>\n",
       "      <td>object</td>\n",
       "      <td>0</td>\n",
       "      <td>2</td>\n",
       "    </tr>\n",
       "    <tr>\n",
       "      <th>Price</th>\n",
       "      <td>object</td>\n",
       "      <td>0</td>\n",
       "      <td>87</td>\n",
       "    </tr>\n",
       "    <tr>\n",
       "      <th>Content Rating</th>\n",
       "      <td>object</td>\n",
       "      <td>0</td>\n",
       "      <td>6</td>\n",
       "    </tr>\n",
       "    <tr>\n",
       "      <th>Genres</th>\n",
       "      <td>object</td>\n",
       "      <td>0</td>\n",
       "      <td>116</td>\n",
       "    </tr>\n",
       "  </tbody>\n",
       "</table>\n",
       "</div>"
      ],
      "text/plain": [
       "               data_type  null_count  unique_count\n",
       "App               object           0          8434\n",
       "Category          object           0            33\n",
       "Rating           float64           0            39\n",
       "Reviews            int32           0          4680\n",
       "Size             float64           0           459\n",
       "Installs           int64           0            20\n",
       "Type              object           0             2\n",
       "Price             object           0            87\n",
       "Content Rating    object           0             6\n",
       "Genres            object           0           116"
      ]
     },
     "execution_count": 125,
     "metadata": {},
     "output_type": "execute_result"
    }
   ],
   "source": [
    "printinfo()"
   ]
  },
  {
   "cell_type": "markdown",
   "id": "12de4b2e",
   "metadata": {},
   "source": [
    "## Column Price"
   ]
  },
  {
   "cell_type": "code",
   "execution_count": 126,
   "id": "75d8dd29",
   "metadata": {},
   "outputs": [
    {
     "data": {
      "text/plain": [
       "0          8421\n",
       "$0.99       145\n",
       "$2.99       114\n",
       "$1.99        66\n",
       "$4.99        65\n",
       "           ... \n",
       "$389.99       1\n",
       "$19.90        1\n",
       "$1.75         1\n",
       "$14.00        1\n",
       "$1.04         1\n",
       "Name: Price, Length: 87, dtype: int64"
      ]
     },
     "execution_count": 126,
     "metadata": {},
     "output_type": "execute_result"
    }
   ],
   "source": [
    "data['Price'].value_counts()"
   ]
  },
  {
   "cell_type": "code",
   "execution_count": 127,
   "id": "b7a809ca",
   "metadata": {},
   "outputs": [],
   "source": [
    "data['Price'] = data.Price.apply(lambda x: x.strip('$'))  # removing $ sign"
   ]
  },
  {
   "cell_type": "code",
   "execution_count": 128,
   "id": "5c08e342",
   "metadata": {},
   "outputs": [],
   "source": [
    "# Converting to Numeric \n",
    "data['Price'] = pd.to_numeric(data['Price'])"
   ]
  },
  {
   "cell_type": "code",
   "execution_count": 129,
   "id": "3dd8dd52",
   "metadata": {},
   "outputs": [
    {
     "data": {
      "text/html": [
       "<div>\n",
       "<style scoped>\n",
       "    .dataframe tbody tr th:only-of-type {\n",
       "        vertical-align: middle;\n",
       "    }\n",
       "\n",
       "    .dataframe tbody tr th {\n",
       "        vertical-align: top;\n",
       "    }\n",
       "\n",
       "    .dataframe thead th {\n",
       "        text-align: right;\n",
       "    }\n",
       "</style>\n",
       "<table border=\"1\" class=\"dataframe\">\n",
       "  <thead>\n",
       "    <tr style=\"text-align: right;\">\n",
       "      <th></th>\n",
       "      <th>data_type</th>\n",
       "      <th>null_count</th>\n",
       "      <th>unique_count</th>\n",
       "    </tr>\n",
       "  </thead>\n",
       "  <tbody>\n",
       "    <tr>\n",
       "      <th>App</th>\n",
       "      <td>object</td>\n",
       "      <td>0</td>\n",
       "      <td>8434</td>\n",
       "    </tr>\n",
       "    <tr>\n",
       "      <th>Category</th>\n",
       "      <td>object</td>\n",
       "      <td>0</td>\n",
       "      <td>33</td>\n",
       "    </tr>\n",
       "    <tr>\n",
       "      <th>Rating</th>\n",
       "      <td>float64</td>\n",
       "      <td>0</td>\n",
       "      <td>39</td>\n",
       "    </tr>\n",
       "    <tr>\n",
       "      <th>Reviews</th>\n",
       "      <td>int32</td>\n",
       "      <td>0</td>\n",
       "      <td>4680</td>\n",
       "    </tr>\n",
       "    <tr>\n",
       "      <th>Size</th>\n",
       "      <td>float64</td>\n",
       "      <td>0</td>\n",
       "      <td>459</td>\n",
       "    </tr>\n",
       "    <tr>\n",
       "      <th>Installs</th>\n",
       "      <td>int64</td>\n",
       "      <td>0</td>\n",
       "      <td>20</td>\n",
       "    </tr>\n",
       "    <tr>\n",
       "      <th>Type</th>\n",
       "      <td>object</td>\n",
       "      <td>0</td>\n",
       "      <td>2</td>\n",
       "    </tr>\n",
       "    <tr>\n",
       "      <th>Price</th>\n",
       "      <td>float64</td>\n",
       "      <td>0</td>\n",
       "      <td>87</td>\n",
       "    </tr>\n",
       "    <tr>\n",
       "      <th>Content Rating</th>\n",
       "      <td>object</td>\n",
       "      <td>0</td>\n",
       "      <td>6</td>\n",
       "    </tr>\n",
       "    <tr>\n",
       "      <th>Genres</th>\n",
       "      <td>object</td>\n",
       "      <td>0</td>\n",
       "      <td>116</td>\n",
       "    </tr>\n",
       "  </tbody>\n",
       "</table>\n",
       "</div>"
      ],
      "text/plain": [
       "               data_type  null_count  unique_count\n",
       "App               object           0          8434\n",
       "Category          object           0            33\n",
       "Rating           float64           0            39\n",
       "Reviews            int32           0          4680\n",
       "Size             float64           0           459\n",
       "Installs           int64           0            20\n",
       "Type              object           0             2\n",
       "Price            float64           0            87\n",
       "Content Rating    object           0             6\n",
       "Genres            object           0           116"
      ]
     },
     "execution_count": 129,
     "metadata": {},
     "output_type": "execute_result"
    }
   ],
   "source": [
    "printinfo()"
   ]
  },
  {
   "cell_type": "code",
   "execution_count": 130,
   "id": "9f9519ab",
   "metadata": {},
   "outputs": [
    {
     "data": {
      "text/html": [
       "<div>\n",
       "<style scoped>\n",
       "    .dataframe tbody tr th:only-of-type {\n",
       "        vertical-align: middle;\n",
       "    }\n",
       "\n",
       "    .dataframe tbody tr th {\n",
       "        vertical-align: top;\n",
       "    }\n",
       "\n",
       "    .dataframe thead th {\n",
       "        text-align: right;\n",
       "    }\n",
       "</style>\n",
       "<table border=\"1\" class=\"dataframe\">\n",
       "  <thead>\n",
       "    <tr style=\"text-align: right;\">\n",
       "      <th></th>\n",
       "      <th>Rating</th>\n",
       "      <th>Reviews</th>\n",
       "      <th>Size</th>\n",
       "      <th>Installs</th>\n",
       "      <th>Price</th>\n",
       "    </tr>\n",
       "  </thead>\n",
       "  <tbody>\n",
       "    <tr>\n",
       "      <th>count</th>\n",
       "      <td>9145.000000</td>\n",
       "      <td>9.145000e+03</td>\n",
       "      <td>9.145000e+03</td>\n",
       "      <td>9.145000e+03</td>\n",
       "      <td>9145.000000</td>\n",
       "    </tr>\n",
       "    <tr>\n",
       "      <th>mean</th>\n",
       "      <td>4.208868</td>\n",
       "      <td>2.490487e+05</td>\n",
       "      <td>2.151653e+07</td>\n",
       "      <td>7.114842e+06</td>\n",
       "      <td>1.184366</td>\n",
       "    </tr>\n",
       "    <tr>\n",
       "      <th>std</th>\n",
       "      <td>0.507267</td>\n",
       "      <td>1.716211e+06</td>\n",
       "      <td>2.258875e+07</td>\n",
       "      <td>4.619357e+07</td>\n",
       "      <td>17.355754</td>\n",
       "    </tr>\n",
       "    <tr>\n",
       "      <th>min</th>\n",
       "      <td>1.000000</td>\n",
       "      <td>0.000000e+00</td>\n",
       "      <td>8.500000e+03</td>\n",
       "      <td>0.000000e+00</td>\n",
       "      <td>0.000000</td>\n",
       "    </tr>\n",
       "    <tr>\n",
       "      <th>25%</th>\n",
       "      <td>4.100000</td>\n",
       "      <td>2.200000e+01</td>\n",
       "      <td>4.900000e+06</td>\n",
       "      <td>1.000000e+03</td>\n",
       "      <td>0.000000</td>\n",
       "    </tr>\n",
       "    <tr>\n",
       "      <th>50%</th>\n",
       "      <td>4.400000</td>\n",
       "      <td>7.420000e+02</td>\n",
       "      <td>1.300000e+07</td>\n",
       "      <td>1.000000e+05</td>\n",
       "      <td>0.000000</td>\n",
       "    </tr>\n",
       "    <tr>\n",
       "      <th>75%</th>\n",
       "      <td>4.500000</td>\n",
       "      <td>2.503700e+04</td>\n",
       "      <td>3.000000e+07</td>\n",
       "      <td>1.000000e+06</td>\n",
       "      <td>0.000000</td>\n",
       "    </tr>\n",
       "    <tr>\n",
       "      <th>max</th>\n",
       "      <td>5.000000</td>\n",
       "      <td>4.489389e+07</td>\n",
       "      <td>1.000000e+08</td>\n",
       "      <td>1.000000e+09</td>\n",
       "      <td>400.000000</td>\n",
       "    </tr>\n",
       "  </tbody>\n",
       "</table>\n",
       "</div>"
      ],
      "text/plain": [
       "            Rating       Reviews          Size      Installs        Price\n",
       "count  9145.000000  9.145000e+03  9.145000e+03  9.145000e+03  9145.000000\n",
       "mean      4.208868  2.490487e+05  2.151653e+07  7.114842e+06     1.184366\n",
       "std       0.507267  1.716211e+06  2.258875e+07  4.619357e+07    17.355754\n",
       "min       1.000000  0.000000e+00  8.500000e+03  0.000000e+00     0.000000\n",
       "25%       4.100000  2.200000e+01  4.900000e+06  1.000000e+03     0.000000\n",
       "50%       4.400000  7.420000e+02  1.300000e+07  1.000000e+05     0.000000\n",
       "75%       4.500000  2.503700e+04  3.000000e+07  1.000000e+06     0.000000\n",
       "max       5.000000  4.489389e+07  1.000000e+08  1.000000e+09   400.000000"
      ]
     },
     "execution_count": 130,
     "metadata": {},
     "output_type": "execute_result"
    }
   ],
   "source": [
    "data.describe()"
   ]
  },
  {
   "cell_type": "code",
   "execution_count": 131,
   "id": "9d679f95",
   "metadata": {},
   "outputs": [],
   "source": [
    "# Done with the Data Preparation & Cleaning"
   ]
  },
  {
   "cell_type": "markdown",
   "id": "9a3b0507",
   "metadata": {},
   "source": [
    "# Performing Exploratory Data Analysis"
   ]
  },
  {
   "cell_type": "code",
   "execution_count": 132,
   "id": "17c21c4c",
   "metadata": {},
   "outputs": [],
   "source": [
    "# Box plot for price Column "
   ]
  },
  {
   "cell_type": "code",
   "execution_count": 133,
   "id": "81c81d86",
   "metadata": {},
   "outputs": [],
   "source": [
    "App_price = data.Price"
   ]
  },
  {
   "cell_type": "code",
   "execution_count": 134,
   "id": "ece5307f",
   "metadata": {},
   "outputs": [
    {
     "data": {
      "image/png": "[encoded data removed]",
      "text/plain": [
       "<Figure size 640x480 with 1 Axes>"
      ]
     },
     "metadata": {},
     "output_type": "display_data"
    }
   ],
   "source": [
    "# creating Boxplot\n",
    "sns.boxplot(x=App_price)\n",
    "plt.title('App Prices on Play Store')\n",
    "plt.xlabel('Price')\n",
    "plt.show()"
   ]
  },
  {
   "cell_type": "code",
   "execution_count": 135,
   "id": "aacd6182",
   "metadata": {},
   "outputs": [],
   "source": [
    "# Box plot for Reviews column"
   ]
  },
  {
   "cell_type": "code",
   "execution_count": 136,
   "id": "fee0f781",
   "metadata": {},
   "outputs": [],
   "source": [
    "App_reviews = data.Reviews"
   ]
  },
  {
   "cell_type": "code",
   "execution_count": 137,
   "id": "92deef6d",
   "metadata": {},
   "outputs": [
    {
     "data": {
      "image/png": "[encoded data removed]",
      "text/plain": [
       "<Figure size 640x480 with 1 Axes>"
      ]
     },
     "metadata": {},
     "output_type": "display_data"
    }
   ],
   "source": [
    "# creating Boxplot\n",
    "sns.boxplot(x=App_reviews)\n",
    "plt.title('App reviews on Play Store')\n",
    "plt.xlabel('Price')\n",
    "plt.show()"
   ]
  },
  {
   "cell_type": "code",
   "execution_count": 138,
   "id": "5f47725a",
   "metadata": {},
   "outputs": [],
   "source": [
    "# histogram for Rating"
   ]
  },
  {
   "cell_type": "code",
   "execution_count": 139,
   "id": "273ff509",
   "metadata": {},
   "outputs": [],
   "source": [
    "App_rating = data.Rating"
   ]
  },
  {
   "cell_type": "code",
   "execution_count": 140,
   "id": "258a628e",
   "metadata": {},
   "outputs": [
    {
     "data": {
      "image/png": "[encoded data removed]",
      "text/plain": [
       "<Figure size 640x480 with 1 Axes>"
      ]
     },
     "metadata": {},
     "output_type": "display_data"
    }
   ],
   "source": [
    "sns.histplot(App_rating, bins=10)\n",
    "plt.title('App Ratings on Play Store')\n",
    "plt.xlabel('Rating')\n",
    "plt.ylabel('Frequency')\n",
    "plt.show()"
   ]
  },
  {
   "cell_type": "code",
   "execution_count": 141,
   "id": "2425ce5d",
   "metadata": {},
   "outputs": [],
   "source": [
    "# Histogram for size"
   ]
  },
  {
   "cell_type": "code",
   "execution_count": 142,
   "id": "c780fe8a",
   "metadata": {},
   "outputs": [],
   "source": [
    "App_size = data.Size"
   ]
  },
  {
   "cell_type": "code",
   "execution_count": 143,
   "id": "67f1d193",
   "metadata": {},
   "outputs": [
    {
     "data": {
      "image/png": "[encoded data removed]",
      "text/plain": [
       "<Figure size 640x480 with 1 Axes>"
      ]
     },
     "metadata": {},
     "output_type": "display_data"
    }
   ],
   "source": [
    "sns.histplot(App_size, bins=10)\n",
    "plt.title('App Size on Play Store')\n",
    "plt.xlabel('Rating')\n",
    "plt.ylabel('Frequency')\n",
    "plt.show()"
   ]
  },
  {
   "cell_type": "code",
   "execution_count": 144,
   "id": "1e29010b",
   "metadata": {},
   "outputs": [
    {
     "name": "stdout",
     "output_type": "stream",
     "text": [
      "                                                     App        Category  \\\n",
      "0         Photo Editor & Candy Camera & Grid & ScrapBook  ART_AND_DESIGN   \n",
      "1                                    Coloring book moana  ART_AND_DESIGN   \n",
      "2      U Launcher Lite – FREE Live Cool Themes, Hide ...  ART_AND_DESIGN   \n",
      "3                                  Sketch - Draw & Paint  ART_AND_DESIGN   \n",
      "4                  Pixel Draw - Number Art Coloring Book  ART_AND_DESIGN   \n",
      "...                                                  ...             ...   \n",
      "10835                                           FR Forms        BUSINESS   \n",
      "10836                                   Sya9a Maroc - FR          FAMILY   \n",
      "10837                   Fr. Mike Schmitz Audio Teachings          FAMILY   \n",
      "10838                             Parkinson Exercices FR         MEDICAL   \n",
      "10840      iHoroscope - 2018 Daily Horoscope & Astrology       LIFESTYLE   \n",
      "\n",
      "       Rating  Reviews        Size  Installs  Type  Price Content Rating  \\\n",
      "0         4.1      159  19000000.0     10000  Free    0.0       Everyone   \n",
      "1         3.9      967  14000000.0    500000  Free    0.0       Everyone   \n",
      "2         4.7    87510   8700000.0   5000000  Free    0.0       Everyone   \n",
      "3         4.5   215644  25000000.0  50000000  Free    0.0           Teen   \n",
      "4         4.3      967   2800000.0    100000  Free    0.0       Everyone   \n",
      "...       ...      ...         ...       ...   ...    ...            ...   \n",
      "10835     4.4        0   9600000.0        10  Free    0.0       Everyone   \n",
      "10836     4.5       38  53000000.0      5000  Free    0.0       Everyone   \n",
      "10837     5.0        4   3600000.0       100  Free    0.0       Everyone   \n",
      "10838     4.4        3   9500000.0      1000  Free    0.0       Everyone   \n",
      "10840     4.5   398307  19000000.0  10000000  Free    0.0       Everyone   \n",
      "\n",
      "                          Genres  \n",
      "0                   Art & Design  \n",
      "1      Art & Design;Pretend Play  \n",
      "2                   Art & Design  \n",
      "3                   Art & Design  \n",
      "4        Art & Design;Creativity  \n",
      "...                          ...  \n",
      "10835                   Business  \n",
      "10836                  Education  \n",
      "10837                  Education  \n",
      "10838                    Medical  \n",
      "10840                  Lifestyle  \n",
      "\n",
      "[9128 rows x 10 columns]\n"
     ]
    }
   ],
   "source": [
    "filter_data = data[data['Price']>200]\n",
    "# fitltering out the records which are greater than 200\n",
    "data = data.drop(filter_data.index)\n",
    "app_price = data\n",
    "print(app_price)"
   ]
  },
  {
   "cell_type": "code",
   "execution_count": 145,
   "id": "b259c8c7",
   "metadata": {},
   "outputs": [
    {
     "name": "stdout",
     "output_type": "stream",
     "text": [
      "                                               App       Category  Rating  \\\n",
      "345                    Yahoo Mail – Stay Organized  COMMUNICATION     4.3   \n",
      "347                  imo free video calls and chat  COMMUNICATION     4.3   \n",
      "366    UC Browser Mini -Tiny Fast Private & Secure  COMMUNICATION     4.4   \n",
      "378    UC Browser - Fast Download Private & Secure  COMMUNICATION     4.5   \n",
      "383                  imo free video calls and chat  COMMUNICATION     4.3   \n",
      "...                                            ...            ...     ...   \n",
      "9142                     Need for Speed™ No Limits           GAME     4.4   \n",
      "9166                  Modern Combat 5: eSports FPS           GAME     4.3   \n",
      "10186                             Farm Heroes Saga         FAMILY     4.4   \n",
      "10190                              Fallout Shelter         FAMILY     4.6   \n",
      "10327                             Garena Free Fire           GAME     4.5   \n",
      "\n",
      "        Reviews        Size   Installs  Type  Price Content Rating  \\\n",
      "345     4187998  16000000.0  100000000  Free    0.0       Everyone   \n",
      "347     4785892  11000000.0  500000000  Free    0.0       Everyone   \n",
      "366     3648120   3300000.0  100000000  Free    0.0           Teen   \n",
      "378    17712922  40000000.0  500000000  Free    0.0           Teen   \n",
      "383     4785988  11000000.0  500000000  Free    0.0       Everyone   \n",
      "...         ...         ...        ...   ...    ...            ...   \n",
      "9142    3344300  22000000.0   50000000  Free    0.0   Everyone 10+   \n",
      "9166    2903386  58000000.0  100000000  Free    0.0     Mature 17+   \n",
      "10186   7615646  71000000.0  100000000  Free    0.0       Everyone   \n",
      "10190   2721923  25000000.0   10000000  Free    0.0           Teen   \n",
      "10327   5534114  53000000.0  100000000  Free    0.0           Teen   \n",
      "\n",
      "              Genres  \n",
      "345    Communication  \n",
      "347    Communication  \n",
      "366    Communication  \n",
      "378    Communication  \n",
      "383    Communication  \n",
      "...              ...  \n",
      "9142          Racing  \n",
      "9166          Action  \n",
      "10186         Casual  \n",
      "10190     Simulation  \n",
      "10327         Action  \n",
      "\n",
      "[219 rows x 10 columns]\n"
     ]
    }
   ],
   "source": [
    "# Filtering out records with more than 2 million reviews\n",
    "data_filter = data[data['Reviews']<=2000000]\n",
    "data = data.drop(data_filter.index)\n",
    "print(data)\n"
   ]
  },
  {
   "cell_type": "code",
   "execution_count": 146,
   "id": "c5e80c9e",
   "metadata": {},
   "outputs": [
    {
     "name": "stdout",
     "output_type": "stream",
     "text": [
      "0.10    5.000000e+07\n",
      "0.25    1.000000e+08\n",
      "0.50    1.000000e+08\n",
      "0.70    1.000000e+08\n",
      "0.90    5.000000e+08\n",
      "0.95    5.000000e+08\n",
      "0.99    1.000000e+09\n",
      "Name: Installs, dtype: float64\n"
     ]
    }
   ],
   "source": [
    "percentiles = [0.10,0.25,0.50,0.70,0.90,0.95,0.99]  # Calculating the different percentile\n",
    "install_percentiles = data['Installs'].quantile(percentiles)\n",
    "print(install_percentiles)"
   ]
  },
  {
   "cell_type": "code",
   "execution_count": 147,
   "id": "74f38e52",
   "metadata": {},
   "outputs": [],
   "source": [
    "# Now decide the Cutoff threshold for outliers (eg .99)\n",
    "cutoff_threshold = install_percentiles[0.99]"
   ]
  },
  {
   "cell_type": "code",
   "execution_count": 148,
   "id": "db6e92f8",
   "metadata": {},
   "outputs": [
    {
     "name": "stdout",
     "output_type": "stream",
     "text": [
      "                                               App       Category  Rating  \\\n",
      "345                    Yahoo Mail – Stay Organized  COMMUNICATION     4.3   \n",
      "347                  imo free video calls and chat  COMMUNICATION     4.3   \n",
      "366    UC Browser Mini -Tiny Fast Private & Secure  COMMUNICATION     4.4   \n",
      "378    UC Browser - Fast Download Private & Secure  COMMUNICATION     4.5   \n",
      "383                  imo free video calls and chat  COMMUNICATION     4.3   \n",
      "...                                            ...            ...     ...   \n",
      "9142                     Need for Speed™ No Limits           GAME     4.4   \n",
      "9166                  Modern Combat 5: eSports FPS           GAME     4.3   \n",
      "10186                             Farm Heroes Saga         FAMILY     4.4   \n",
      "10190                              Fallout Shelter         FAMILY     4.6   \n",
      "10327                             Garena Free Fire           GAME     4.5   \n",
      "\n",
      "        Reviews        Size   Installs  Type  Price Content Rating  \\\n",
      "345     4187998  16000000.0  100000000  Free    0.0       Everyone   \n",
      "347     4785892  11000000.0  500000000  Free    0.0       Everyone   \n",
      "366     3648120   3300000.0  100000000  Free    0.0           Teen   \n",
      "378    17712922  40000000.0  500000000  Free    0.0           Teen   \n",
      "383     4785988  11000000.0  500000000  Free    0.0       Everyone   \n",
      "...         ...         ...        ...   ...    ...            ...   \n",
      "9142    3344300  22000000.0   50000000  Free    0.0   Everyone 10+   \n",
      "9166    2903386  58000000.0  100000000  Free    0.0     Mature 17+   \n",
      "10186   7615646  71000000.0  100000000  Free    0.0       Everyone   \n",
      "10190   2721923  25000000.0   10000000  Free    0.0           Teen   \n",
      "10327   5534114  53000000.0  100000000  Free    0.0           Teen   \n",
      "\n",
      "              Genres  \n",
      "345    Communication  \n",
      "347    Communication  \n",
      "366    Communication  \n",
      "378    Communication  \n",
      "383    Communication  \n",
      "...              ...  \n",
      "9142          Racing  \n",
      "9166          Action  \n",
      "10186         Casual  \n",
      "10190     Simulation  \n",
      "10327         Action  \n",
      "\n",
      "[219 rows x 10 columns]\n"
     ]
    }
   ],
   "source": [
    "data_filter = data[data['Installs']<=cutoff_threshold]\n",
    "print(data_filter)"
   ]
  },
  {
   "cell_type": "code",
   "execution_count": 149,
   "id": "9b5ab11c",
   "metadata": {},
   "outputs": [
    {
     "data": {
      "text/plain": [
       "Text(463.154761904762, 0.5, 'Rating')"
      ]
     },
     "execution_count": 149,
     "metadata": {},
     "output_type": "execute_result"
    },
    {
     "data": {
      "image/png": "[encoded data removed]",
      "text/plain": [
       "<Figure size 600x600 with 3 Axes>"
      ]
     },
     "metadata": {},
     "output_type": "display_data"
    }
   ],
   "source": [
    "# Making  scatter plot/joinplot for Rating vs. Price\n",
    "sns.jointplot(x = 'Price' , y = 'Rating', data = data)\n",
    "# set plot title & label\n",
    "plt.title('Price vs Rating')\n",
    "plt.xlabel('Price')\n",
    "plt.ylabel('Rating')"
   ]
  },
  {
   "cell_type": "code",
   "execution_count": 150,
   "id": "1a9cabcd",
   "metadata": {},
   "outputs": [
    {
     "data": {
      "text/plain": [
       "Text(463.154761904762, 0.5, 'Rating')"
      ]
     },
     "execution_count": 150,
     "metadata": {},
     "output_type": "execute_result"
    },
    {
     "data": {
      "image/png": "[encoded data removed]",
      "text/plain": [
       "<Figure size 600x600 with 3 Axes>"
      ]
     },
     "metadata": {},
     "output_type": "display_data"
    }
   ],
   "source": [
    "# Making  scatter plot/joinplot for Rating vs. Size\n",
    "sns.jointplot(x = 'Size' , y = 'Rating', data = data)\n",
    "# set plot title & label\n",
    "plt.title('Size vs Rating')\n",
    "plt.xlabel('Size')\n",
    "plt.ylabel('Rating')"
   ]
  },
  {
   "cell_type": "code",
   "execution_count": 151,
   "id": "cc83862d",
   "metadata": {},
   "outputs": [
    {
     "data": {
      "text/plain": [
       "Text(463.154761904762, 0.5, 'Rating')"
      ]
     },
     "execution_count": 151,
     "metadata": {},
     "output_type": "execute_result"
    },
    {
     "data": {
      "image/png": "[encoded data removed]",
      "text/plain": [
       "<Figure size 600x600 with 3 Axes>"
      ]
     },
     "metadata": {},
     "output_type": "display_data"
    }
   ],
   "source": [
    "# Making  scatter plot/joinplot for Rating vs. Reviews\n",
    "sns.jointplot(x = 'Reviews' , y = 'Rating', data = data)\n",
    "# set plot title & label\n",
    "plt.title('Reviews vs Rating')\n",
    "plt.xlabel('Reviews')\n",
    "plt.ylabel('Rating')"
   ]
  },
  {
   "cell_type": "code",
   "execution_count": 152,
   "id": "7ec615d0",
   "metadata": {},
   "outputs": [
    {
     "data": {
      "text/plain": [
       "Text(463.154761904762, 0.5, 'Rating')"
      ]
     },
     "execution_count": 152,
     "metadata": {},
     "output_type": "execute_result"
    },
    {
     "data": {
      "image/png": "[encoded data removed]",
      "text/plain": [
       "<Figure size 600x600 with 3 Axes>"
      ]
     },
     "metadata": {},
     "output_type": "display_data"
    }
   ],
   "source": [
    "# Making  scatter plot/joinplot for Rating vs. Price\n",
    "sns.jointplot(x = 'Content Rating' , y = 'Rating', data = data)\n",
    "# set plot title & label\n",
    "plt.title('Content Rating vs Rating')\n",
    "plt.xlabel('Content Rating')\n",
    "plt.ylabel('Rating')"
   ]
  },
  {
   "cell_type": "code",
   "execution_count": 153,
   "id": "3e847d3d",
   "metadata": {},
   "outputs": [
    {
     "data": {
      "text/plain": [
       "Text(0.5, 60.44444444444443, 'Rating')"
      ]
     },
     "execution_count": 153,
     "metadata": {},
     "output_type": "execute_result"
    },
    {
     "data": {
      "image/png": "[encoded data removed]",
      "text/plain": [
       "<Figure size 600x600 with 3 Axes>"
      ]
     },
     "metadata": {},
     "output_type": "display_data"
    }
   ],
   "source": [
    "# Making  scatter plot/joinplot for Rating vs. Price\n",
    "sns.jointplot(x = 'Rating' , y = 'Category', data = data)\n",
    "# set plot title & label\n",
    "plt.title('Category vs Rating')\n",
    "plt.ylabel('category')\n",
    "plt.xlabel('Rating')"
   ]
  },
  {
   "cell_type": "markdown",
   "id": "8526f224",
   "metadata": {},
   "source": [
    "# Starting Data Preprocessing "
   ]
  },
  {
   "cell_type": "code",
   "execution_count": 154,
   "id": "7aa91098",
   "metadata": {},
   "outputs": [],
   "source": [
    "# Apply log transformation to Reviews and Installs \n",
    "inp1 = data.copy()"
   ]
  },
  {
   "cell_type": "code",
   "execution_count": 155,
   "id": "e5162ec5",
   "metadata": {},
   "outputs": [],
   "source": [
    "inp1['Reviews'] = np.log1p(inp1['Reviews'])\n",
    "inp1['Installs'] = np.log1p(inp1['Installs'])"
   ]
  },
  {
   "cell_type": "code",
   "execution_count": 167,
   "id": "09e419cc",
   "metadata": {},
   "outputs": [],
   "source": [
    "# Drop Unnecessary Columns \n",
    "inp2 = inp1.drop(['App','Type'],axis = 1)"
   ]
  },
  {
   "cell_type": "code",
   "execution_count": 168,
   "id": "19e4fd01",
   "metadata": {},
   "outputs": [
    {
     "name": "stdout",
     "output_type": "stream",
     "text": [
      "       Rating    Reviews        Size   Installs  Price  \\\n",
      "345       4.3  15.247734  16000000.0  18.420681    0.0   \n",
      "347       4.3  15.381183  11000000.0  20.030119    0.0   \n",
      "366       4.4  15.109723   3300000.0  18.420681    0.0   \n",
      "378       4.5  16.689805  40000000.0  20.030119    0.0   \n",
      "383       4.3  15.381203  11000000.0  20.030119    0.0   \n",
      "...       ...        ...         ...        ...    ...   \n",
      "9142      4.4  15.022768  22000000.0  17.727534    0.0   \n",
      "9166      4.3  14.881389  58000000.0  18.420681    0.0   \n",
      "10186     4.4  15.845716  71000000.0  18.420681    0.0   \n",
      "10190     4.6  14.816850  25000000.0  16.118096    0.0   \n",
      "10327     4.5  15.526442  53000000.0  18.420681    0.0   \n",
      "\n",
      "       Category_COMMUNICATION  Category_FAMILY  Category_GAME  \\\n",
      "345                         1                0              0   \n",
      "347                         1                0              0   \n",
      "366                         1                0              0   \n",
      "378                         1                0              0   \n",
      "383                         1                0              0   \n",
      "...                       ...              ...            ...   \n",
      "9142                        0                0              1   \n",
      "9166                        0                0              1   \n",
      "10186                       0                1              0   \n",
      "10190                       0                1              0   \n",
      "10327                       0                0              1   \n",
      "\n",
      "       Category_LIFESTYLE  Category_PERSONALIZATION  ...  Genres_Sports  \\\n",
      "345                     0                         0  ...              0   \n",
      "347                     0                         0  ...              0   \n",
      "366                     0                         0  ...              0   \n",
      "378                     0                         0  ...              0   \n",
      "383                     0                         0  ...              0   \n",
      "...                   ...                       ...  ...            ...   \n",
      "9142                    0                         0  ...              0   \n",
      "9166                    0                         0  ...              0   \n",
      "10186                   0                         0  ...              0   \n",
      "10190                   0                         0  ...              0   \n",
      "10327                   0                         0  ...              0   \n",
      "\n",
      "       Genres_Strategy  Genres_Tools  Genres_Trivia  \\\n",
      "345                  0             0              0   \n",
      "347                  0             0              0   \n",
      "366                  0             0              0   \n",
      "378                  0             0              0   \n",
      "383                  0             0              0   \n",
      "...                ...           ...            ...   \n",
      "9142                 0             0              0   \n",
      "9166                 0             0              0   \n",
      "10186                0             0              0   \n",
      "10190                0             0              0   \n",
      "10327                0             0              0   \n",
      "\n",
      "       Genres_Video Players & Editors  Genres_Weather  \\\n",
      "345                                 0               0   \n",
      "347                                 0               0   \n",
      "366                                 0               0   \n",
      "378                                 0               0   \n",
      "383                                 0               0   \n",
      "...                               ...             ...   \n",
      "9142                                0               0   \n",
      "9166                                0               0   \n",
      "10186                               0               0   \n",
      "10190                               0               0   \n",
      "10327                               0               0   \n",
      "\n",
      "       Content Rating_Everyone  Content Rating_Everyone 10+  \\\n",
      "345                          1                            0   \n",
      "347                          1                            0   \n",
      "366                          0                            0   \n",
      "378                          0                            0   \n",
      "383                          1                            0   \n",
      "...                        ...                          ...   \n",
      "9142                         0                            1   \n",
      "9166                         0                            0   \n",
      "10186                        1                            0   \n",
      "10190                        0                            0   \n",
      "10327                        0                            0   \n",
      "\n",
      "       Content Rating_Mature 17+  Content Rating_Teen  \n",
      "345                            0                    0  \n",
      "347                            0                    0  \n",
      "366                            0                    1  \n",
      "378                            0                    1  \n",
      "383                            0                    0  \n",
      "...                          ...                  ...  \n",
      "9142                           0                    0  \n",
      "9166                           1                    0  \n",
      "10186                          0                    0  \n",
      "10190                          0                    1  \n",
      "10327                          0                    1  \n",
      "\n",
      "[219 rows x 45 columns]\n"
     ]
    }
   ],
   "source": [
    "# get Dummies Columns For Category,Genres and Content Rating\n",
    "inp2 = pd.get_dummies(inp2,columns=['Category','Genres','Content Rating'])\n",
    "print(inp2)"
   ]
  },
  {
   "cell_type": "code",
   "execution_count": 169,
   "id": "22d81527",
   "metadata": {},
   "outputs": [],
   "source": [
    "# Now Splitting the dataset \n",
    "from sklearn.model_selection import train_test_split \n",
    "df_train,df_test = train_test_split(inp2,test_size = 0.3,random_state = 42)"
   ]
  },
  {
   "cell_type": "code",
   "execution_count": 170,
   "id": "9cac6ddc",
   "metadata": {},
   "outputs": [],
   "source": [
    "# Now Separate the dataset into X_train,y_train,x_test,y_test\n",
    "X_train = df_train.drop('Rating',axis = 1)\n",
    "y_train = df_train['Rating']\n",
    "X_test = df_test.drop('Rating',axis =1)\n",
    "y_test = df_test['Rating']"
   ]
  },
  {
   "cell_type": "markdown",
   "id": "10a256b2",
   "metadata": {},
   "source": [
    "## Train the Algorithm"
   ]
  },
  {
   "cell_type": "code",
   "execution_count": 171,
   "id": "487e34b2",
   "metadata": {},
   "outputs": [],
   "source": [
    "from sklearn.linear_model import LinearRegression\n",
    "nish = LinearRegression()"
   ]
  },
  {
   "cell_type": "code",
   "execution_count": 172,
   "id": "a342d7fc",
   "metadata": {},
   "outputs": [
    {
     "data": {
      "text/plain": [
       "LinearRegression()"
      ]
     },
     "execution_count": 172,
     "metadata": {},
     "output_type": "execute_result"
    }
   ],
   "source": [
    "nish.fit(X_train,y_train)"
   ]
  },
  {
   "cell_type": "markdown",
   "id": "b6d8d85a",
   "metadata": {},
   "source": [
    "## Predicting on train data "
   ]
  },
  {
   "cell_type": "code",
   "execution_count": 181,
   "id": "99411b3c",
   "metadata": {},
   "outputs": [],
   "source": [
    "y_pred = nish.predict(X_train)"
   ]
  },
  {
   "cell_type": "code",
   "execution_count": 182,
   "id": "1878ad62",
   "metadata": {
    "collapsed": true
   },
   "outputs": [
    {
     "data": {
      "text/plain": [
       "array([4.46719393, 4.54649443, 4.50020016, 4.4       , 4.51873335,\n",
       "       4.55478493, 4.46071994, 4.40959896, 4.46072157, 4.36964125,\n",
       "       4.51087618, 4.42946928, 4.39488219, 4.5547909 , 4.38122735,\n",
       "       4.40452268, 4.58644239, 4.39729398, 4.39496566, 4.46760851,\n",
       "       4.42205531, 4.47842422, 4.46143535, 4.49572002, 4.39028867,\n",
       "       4.42883904, 4.46378024, 4.43759283, 4.5424741 , 4.50002028,\n",
       "       4.46072536, 4.5386377 , 4.46289521, 4.51711256, 4.51086719,\n",
       "       4.39028867, 4.50324029, 4.55478388, 4.4       , 4.5745843 ,\n",
       "       4.42915207, 4.503213  , 4.42891824, 4.41723874, 4.44752829,\n",
       "       4.40251245, 4.46112827, 4.42054271, 4.47139231, 4.35911932,\n",
       "       4.58644005, 4.50002028, 4.36962449, 4.42768863, 4.39026297,\n",
       "       4.49571964, 4.35911932, 4.42915481, 4.6122286 , 4.47946336,\n",
       "       4.49563812, 4.4404399 , 4.51499557, 4.35911834, 4.42915583,\n",
       "       4.6       , 4.55479161, 4.40458367, 4.44319343, 4.554106  ,\n",
       "       4.41118569, 4.43759164, 4.41779865, 4.5       , 4.47843179,\n",
       "       4.43322601, 4.42884765, 4.42303047, 4.50151794, 4.49993949,\n",
       "       4.46377932, 4.48334512, 4.43485231, 4.42074438, 4.39729506,\n",
       "       4.36964125, 4.43889695, 4.55350557, 4.39890157, 4.59078333,\n",
       "       4.46072315, 4.36964253, 4.46760048, 4.42884385, 4.51087618,\n",
       "       4.42526102, 4.47893491, 4.57474287, 4.50047847, 4.43332338,\n",
       "       4.42074967, 4.42914821, 4.4509518 , 4.4475319 , 4.57055294,\n",
       "       4.39729219, 4.43884638, 4.5547962 , 4.45619104, 4.4611284 ,\n",
       "       4.50077313, 4.57389551, 4.43013182, 4.1       , 4.43801811,\n",
       "       4.42915207, 4.50019256, 4.33820321, 4.45072725, 4.50800536,\n",
       "       4.50322835, 4.44826682, 4.58644005, 4.45096996, 4.41621648,\n",
       "       4.61222918, 4.56909691, 4.44626105, 4.50087036, 4.47842461,\n",
       "       4.42525056, 4.51772709, 4.35911834, 4.43801576, 4.43799338,\n",
       "       4.57390952, 4.57889761, 4.42303175, 4.42699653, 4.50001996,\n",
       "       4.4045933 , 4.56469133, 4.45356856, 4.39028536, 4.43383215,\n",
       "       4.45356438, 4.4225775 , 4.50324059, 4.40252189, 4.55410333,\n",
       "       4.36964255, 4.53916793, 4.55479522])"
      ]
     },
     "execution_count": 182,
     "metadata": {},
     "output_type": "execute_result"
    }
   ],
   "source": [
    "y_pred"
   ]
  },
  {
   "cell_type": "code",
   "execution_count": 184,
   "id": "78b1da7e",
   "metadata": {},
   "outputs": [
    {
     "data": {
      "text/plain": [
       "4017     4.4\n",
       "1923     4.6\n",
       "10186    4.4\n",
       "10190    4.6\n",
       "1661     4.3\n",
       "        ... \n",
       "395      4.4\n",
       "3883     4.4\n",
       "1781     4.5\n",
       "2016     4.5\n",
       "3987     4.6\n",
       "Name: Rating, Length: 66, dtype: float64"
      ]
     },
     "execution_count": 184,
     "metadata": {},
     "output_type": "execute_result"
    }
   ],
   "source": [
    "y_test"
   ]
  },
  {
   "cell_type": "markdown",
   "id": "0d650b48",
   "metadata": {},
   "source": [
    "## Evaluating the Model"
   ]
  },
  {
   "cell_type": "code",
   "execution_count": 185,
   "id": "4a25ec18",
   "metadata": {},
   "outputs": [],
   "source": [
    "from sklearn.metrics import r2_score"
   ]
  },
  {
   "cell_type": "code",
   "execution_count": 187,
   "id": "d48ef544",
   "metadata": {},
   "outputs": [
    {
     "name": "stdout",
     "output_type": "stream",
     "text": [
      "0.42354747585008967\n"
     ]
    }
   ],
   "source": [
    "r2 = r2_score(y_train,y_pred)\n",
    "print(r2)"
   ]
  },
  {
   "cell_type": "markdown",
   "id": "b72e3e82",
   "metadata": {},
   "source": [
    "## Predicting on test data"
   ]
  },
  {
   "cell_type": "code",
   "execution_count": 189,
   "id": "3956afdb",
   "metadata": {},
   "outputs": [],
   "source": [
    "y_pred = nish.predict(X_test)"
   ]
  },
  {
   "cell_type": "code",
   "execution_count": 190,
   "id": "8d37d360",
   "metadata": {
    "collapsed": true
   },
   "outputs": [
    {
     "data": {
      "text/plain": [
       "array([4.4482539 , 4.40459343, 4.4563243 , 4.53901289, 4.36963928,\n",
       "       4.44826698, 4.4400602 , 4.47920499, 4.55411012, 4.47086602,\n",
       "       4.43332338, 4.38876883, 4.3972885 , 4.44044157, 4.43483551,\n",
       "       4.42766004, 4.34908763, 4.46760058, 4.57446886, 4.45097811,\n",
       "       4.61483287, 4.54512255, 4.39028707, 4.46377842, 4.50696183,\n",
       "       4.42074438, 4.46108145, 4.3887687 , 4.53863196, 4.42160124,\n",
       "       4.4607014 , 4.38048417, 4.41118594, 4.41590532, 4.46072536,\n",
       "       4.43759373, 4.40960369, 4.41834306, 4.099983  , 4.42915583,\n",
       "       4.43759356, 4.44044393, 4.50002844, 4.35604812, 4.388772  ,\n",
       "       4.4600439 , 4.46378019, 4.50151833, 4.46760851, 4.41835818,\n",
       "       4.45660418, 4.45356687, 4.44826556, 4.46120353, 4.41118555,\n",
       "       4.50321254, 4.4172529 , 4.41209311, 4.54513491, 4.51879379,\n",
       "       4.40134589, 4.42269557, 4.43758453, 4.43361932, 4.4957093 ,\n",
       "       4.54655472])"
      ]
     },
     "execution_count": 190,
     "metadata": {},
     "output_type": "execute_result"
    }
   ],
   "source": [
    "y_pred"
   ]
  },
  {
   "cell_type": "code",
   "execution_count": 191,
   "id": "6c8c207e",
   "metadata": {
    "collapsed": true
   },
   "outputs": [
    {
     "data": {
      "text/plain": [
       "4017     4.4\n",
       "1923     4.6\n",
       "10186    4.4\n",
       "10190    4.6\n",
       "1661     4.3\n",
       "        ... \n",
       "395      4.4\n",
       "3883     4.4\n",
       "1781     4.5\n",
       "2016     4.5\n",
       "3987     4.6\n",
       "Name: Rating, Length: 66, dtype: float64"
      ]
     },
     "execution_count": 191,
     "metadata": {},
     "output_type": "execute_result"
    }
   ],
   "source": [
    "y_test"
   ]
  },
  {
   "cell_type": "markdown",
   "id": "3e67bd46",
   "metadata": {},
   "source": [
    "## Evaluating the model"
   ]
  },
  {
   "cell_type": "code",
   "execution_count": 192,
   "id": "89113536",
   "metadata": {},
   "outputs": [
    {
     "name": "stdout",
     "output_type": "stream",
     "text": [
      "-1.0816981846117333\n"
     ]
    }
   ],
   "source": [
    "r2 = r2_score(y_pred,y_test)\n",
    "print(r2)"
   ]
  },
  {
   "cell_type": "code",
   "execution_count": null,
   "id": "b1946291",
   "metadata": {},
   "outputs": [],
   "source": []
  }
 ],
 "metadata": {
  "kernelspec": {
   "display_name": "Python 3 (ipykernel)",
   "language": "python",
   "name": "python3"
  },
  "language_info": {
   "codemirror_mode": {
    "name": "ipython",
    "version": 3
   },
   "file_extension": ".py",
   "mimetype": "text/x-python",
   "name": "python",
   "nbconvert_exporter": "python",
   "pygments_lexer": "ipython3",
   "version": "3.9.13"
  }
 },
 "nbformat": 4,
 "nbformat_minor": 5
}
